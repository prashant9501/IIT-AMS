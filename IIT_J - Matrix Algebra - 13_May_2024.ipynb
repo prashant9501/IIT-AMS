{
 "cells": [
  {
   "cell_type": "code",
   "execution_count": 1,
   "id": "b5220753",
   "metadata": {},
   "outputs": [],
   "source": [
    "import numpy as np"
   ]
  },
  {
   "cell_type": "code",
   "execution_count": 2,
   "id": "9b57d209",
   "metadata": {},
   "outputs": [
    {
     "data": {
      "text/plain": [
       "array([[ 1,  2,  3],\n",
       "       [-2,  4, -5],\n",
       "       [ 4,  7, 11]])"
      ]
     },
     "execution_count": 2,
     "metadata": {},
     "output_type": "execute_result"
    }
   ],
   "source": [
    "A = np.array([[1,2,3], [-2, 4, -5], [4,7,11]])\n",
    "A"
   ]
  },
  {
   "cell_type": "code",
   "execution_count": 4,
   "id": "a65f6328",
   "metadata": {},
   "outputs": [
    {
     "data": {
      "text/plain": [
       "array([[ 1, -2,  4],\n",
       "       [ 2,  4,  7],\n",
       "       [ 3, -5, 11]])"
      ]
     },
     "execution_count": 4,
     "metadata": {},
     "output_type": "execute_result"
    }
   ],
   "source": [
    "# Transpose of A\n",
    "A.T"
   ]
  },
  {
   "cell_type": "code",
   "execution_count": 5,
   "id": "49238f01",
   "metadata": {},
   "outputs": [
    {
     "data": {
      "text/plain": [
       "array([ 1,  4, 11])"
      ]
     },
     "execution_count": 5,
     "metadata": {},
     "output_type": "execute_result"
    }
   ],
   "source": [
    "A.diagonal()  # Main Diagonal Elements of A"
   ]
  },
  {
   "cell_type": "code",
   "execution_count": 6,
   "id": "139ba439",
   "metadata": {},
   "outputs": [
    {
     "data": {
      "text/plain": [
       "16"
      ]
     },
     "execution_count": 6,
     "metadata": {},
     "output_type": "execute_result"
    }
   ],
   "source": [
    "A.trace()    # sum of the main diagonal elements in A"
   ]
  },
  {
   "cell_type": "code",
   "execution_count": 7,
   "id": "f6d24b94",
   "metadata": {},
   "outputs": [
    {
     "data": {
      "text/plain": [
       "16"
      ]
     },
     "execution_count": 7,
     "metadata": {},
     "output_type": "execute_result"
    }
   ],
   "source": [
    "A.diagonal().sum()   # built-in numpy function"
   ]
  },
  {
   "cell_type": "code",
   "execution_count": 8,
   "id": "7b866664",
   "metadata": {},
   "outputs": [
    {
     "data": {
      "text/plain": [
       "16"
      ]
     },
     "execution_count": 8,
     "metadata": {},
     "output_type": "execute_result"
    }
   ],
   "source": [
    "np.sum(A.diagonal())  # Numpy Univ. fucntion"
   ]
  },
  {
   "cell_type": "code",
   "execution_count": 9,
   "id": "33d905d2",
   "metadata": {},
   "outputs": [
    {
     "data": {
      "text/plain": [
       "16"
      ]
     },
     "execution_count": 9,
     "metadata": {},
     "output_type": "execute_result"
    }
   ],
   "source": [
    "sum(A.diagonal())  # core Python funtion"
   ]
  },
  {
   "cell_type": "code",
   "execution_count": 11,
   "id": "46521903",
   "metadata": {},
   "outputs": [
    {
     "data": {
      "text/plain": [
       "array([[ 1,  2,  3],\n",
       "       [-2,  4, -5],\n",
       "       [ 4,  7, 11]])"
      ]
     },
     "execution_count": 11,
     "metadata": {},
     "output_type": "execute_result"
    }
   ],
   "source": [
    "A"
   ]
  },
  {
   "cell_type": "code",
   "execution_count": 14,
   "id": "56d78740",
   "metadata": {},
   "outputs": [
    {
     "data": {
      "text/plain": [
       "array([[ 4,  7, 11],\n",
       "       [-2,  4, -5],\n",
       "       [ 1,  2,  3]])"
      ]
     },
     "execution_count": 14,
     "metadata": {},
     "output_type": "execute_result"
    }
   ],
   "source": [
    "np.flipud(A)   # Flip A upside-down"
   ]
  },
  {
   "cell_type": "code",
   "execution_count": 15,
   "id": "4beb48e5",
   "metadata": {},
   "outputs": [
    {
     "data": {
      "text/plain": [
       "array([4, 4, 3])"
      ]
     },
     "execution_count": 15,
     "metadata": {},
     "output_type": "execute_result"
    }
   ],
   "source": [
    "np.flipud(A).diagonal()  # this how we can fetch the anti-diagonal elements"
   ]
  },
  {
   "cell_type": "code",
   "execution_count": 16,
   "id": "3e2f60bd",
   "metadata": {},
   "outputs": [
    {
     "data": {
      "text/plain": [
       "array([[ 3,  2,  1],\n",
       "       [-5,  4, -2],\n",
       "       [11,  7,  4]])"
      ]
     },
     "execution_count": 16,
     "metadata": {},
     "output_type": "execute_result"
    }
   ],
   "source": [
    "np.fliplr(A)    # Flip A  left-right"
   ]
  },
  {
   "cell_type": "code",
   "execution_count": 19,
   "id": "4d74bb9e",
   "metadata": {},
   "outputs": [
    {
     "data": {
      "text/plain": [
       "-6.999999999999998"
      ]
     },
     "execution_count": 19,
     "metadata": {},
     "output_type": "execute_result"
    }
   ],
   "source": [
    "np.linalg.det(A)   # Determinant of A"
   ]
  },
  {
   "cell_type": "code",
   "execution_count": 20,
   "id": "a755e36d",
   "metadata": {},
   "outputs": [
    {
     "data": {
      "text/plain": [
       "6.999999999999995"
      ]
     },
     "execution_count": 20,
     "metadata": {},
     "output_type": "execute_result"
    }
   ],
   "source": [
    "np.linalg.det(np.fliplr(A))    # Determinant of the Flipped-A"
   ]
  },
  {
   "cell_type": "code",
   "execution_count": 21,
   "id": "88c3b93c",
   "metadata": {},
   "outputs": [
    {
     "data": {
      "text/plain": [
       "array([[ 1,  2,  3],\n",
       "       [-2,  4, -5],\n",
       "       [ 4,  7, 11]])"
      ]
     },
     "execution_count": 21,
     "metadata": {},
     "output_type": "execute_result"
    }
   ],
   "source": [
    "A"
   ]
  },
  {
   "cell_type": "code",
   "execution_count": 22,
   "id": "160960be",
   "metadata": {},
   "outputs": [
    {
     "data": {
      "text/plain": [
       "array([[101, 102, 103],\n",
       "       [ 98, 104,  95],\n",
       "       [104, 107, 111]])"
      ]
     },
     "execution_count": 22,
     "metadata": {},
     "output_type": "execute_result"
    }
   ],
   "source": [
    "A + 100  # Scalr addition to matrix A"
   ]
  },
  {
   "cell_type": "code",
   "execution_count": 25,
   "id": "b4f04700",
   "metadata": {},
   "outputs": [
    {
     "data": {
      "text/plain": [
       "array([[101, 102, 103],\n",
       "       [ 98, 104,  95],\n",
       "       [104, 107, 111]])"
      ]
     },
     "execution_count": 25,
     "metadata": {},
     "output_type": "execute_result"
    }
   ],
   "source": [
    "100 + A  # ordering doesn't matter for scaler operations (since the operations are elelment-wise)"
   ]
  },
  {
   "cell_type": "code",
   "execution_count": 23,
   "id": "bd2a36c7",
   "metadata": {},
   "outputs": [
    {
     "data": {
      "text/plain": [
       "array([[ -9,  -8,  -7],\n",
       "       [-12,  -6, -15],\n",
       "       [ -6,  -3,   1]])"
      ]
     },
     "execution_count": 23,
     "metadata": {},
     "output_type": "execute_result"
    }
   ],
   "source": [
    "A - 10  # Scalr substraction to matrix A"
   ]
  },
  {
   "cell_type": "code",
   "execution_count": 24,
   "id": "222bd889",
   "metadata": {},
   "outputs": [
    {
     "data": {
      "text/plain": [
       "array([[  5,  10,  15],\n",
       "       [-10,  20, -25],\n",
       "       [ 20,  35,  55]])"
      ]
     },
     "execution_count": 24,
     "metadata": {},
     "output_type": "execute_result"
    }
   ],
   "source": [
    "5* A  # Scalr multiplication to matrix A"
   ]
  },
  {
   "cell_type": "code",
   "execution_count": 27,
   "id": "bf5e6936",
   "metadata": {},
   "outputs": [
    {
     "data": {
      "text/plain": [
       "array([[ 1, -2,  4],\n",
       "       [ 2,  4,  7],\n",
       "       [ 3, -5, 11]])"
      ]
     },
     "execution_count": 27,
     "metadata": {},
     "output_type": "execute_result"
    }
   ],
   "source": [
    "B = A.T\n",
    "B"
   ]
  },
  {
   "cell_type": "code",
   "execution_count": 28,
   "id": "d430bebb",
   "metadata": {},
   "outputs": [
    {
     "data": {
      "text/plain": [
       "array([[ 2,  0,  7],\n",
       "       [ 0,  8,  2],\n",
       "       [ 7,  2, 22]])"
      ]
     },
     "execution_count": 28,
     "metadata": {},
     "output_type": "execute_result"
    }
   ],
   "source": [
    "A + B  # Matrix Addition (always element-wise, hence the matrix dimensions MUST ALWAYS MATCH EXACTLY)"
   ]
  },
  {
   "cell_type": "code",
   "execution_count": 29,
   "id": "5268941b",
   "metadata": {},
   "outputs": [
    {
     "data": {
      "text/plain": [
       "array([[  0,   4,  -1],\n",
       "       [ -4,   0, -12],\n",
       "       [  1,  12,   0]])"
      ]
     },
     "execution_count": 29,
     "metadata": {},
     "output_type": "execute_result"
    }
   ],
   "source": [
    "A - B  # Matrix Substraction (always element-wise, hence the matrix dimensions MUST ALWAYS MATCH EXACTLY)"
   ]
  },
  {
   "cell_type": "code",
   "execution_count": 30,
   "id": "02b69439",
   "metadata": {},
   "outputs": [
    {
     "data": {
      "text/plain": [
       "array([[  1,  -4,  12],\n",
       "       [ -4,  16, -35],\n",
       "       [ 12, -35, 121]])"
      ]
     },
     "execution_count": 30,
     "metadata": {},
     "output_type": "execute_result"
    }
   ],
   "source": [
    "A * B  # Matrix Multiplication ELEMENT-Wise (Hadamard Product)"
   ]
  },
  {
   "cell_type": "code",
   "execution_count": 33,
   "id": "04465282",
   "metadata": {},
   "outputs": [
    {
     "data": {
      "text/plain": [
       "array([[  1,  -4,  12],\n",
       "       [ -4,  16, -35],\n",
       "       [ 12, -35, 121]])"
      ]
     },
     "execution_count": 33,
     "metadata": {},
     "output_type": "execute_result"
    }
   ],
   "source": [
    "B*A    # for element-wise the sequence of operation doesn't matter"
   ]
  },
  {
   "cell_type": "code",
   "execution_count": 31,
   "id": "bed886a0",
   "metadata": {},
   "outputs": [
    {
     "data": {
      "text/plain": [
       "array([[ 14,  -9,  51],\n",
       "       [ -9,  45, -35],\n",
       "       [ 51, -35, 186]])"
      ]
     },
     "execution_count": 31,
     "metadata": {},
     "output_type": "execute_result"
    }
   ],
   "source": [
    "# Proper matrix multiplication\n",
    "A.dot(B)"
   ]
  },
  {
   "cell_type": "code",
   "execution_count": 34,
   "id": "985ff594",
   "metadata": {},
   "outputs": [
    {
     "data": {
      "text/plain": [
       "array([[ 14,  -9,  51],\n",
       "       [ -9,  45, -35],\n",
       "       [ 51, -35, 186]])"
      ]
     },
     "execution_count": 34,
     "metadata": {},
     "output_type": "execute_result"
    }
   ],
   "source": [
    "np.matmul(A, B)   # Proper matrix multiplication"
   ]
  },
  {
   "cell_type": "code",
   "execution_count": 36,
   "id": "44b9976d",
   "metadata": {},
   "outputs": [
    {
     "data": {
      "text/plain": [
       "array([[ 14,  -9,  51],\n",
       "       [ -9,  45, -35],\n",
       "       [ 51, -35, 186]])"
      ]
     },
     "execution_count": 36,
     "metadata": {},
     "output_type": "execute_result"
    }
   ],
   "source": [
    "np.dot(A, B)"
   ]
  },
  {
   "cell_type": "code",
   "execution_count": 32,
   "id": "7be15839",
   "metadata": {},
   "outputs": [
    {
     "data": {
      "text/plain": [
       "array([[ 21,  22,  57],\n",
       "       [ 22,  69,  63],\n",
       "       [ 57,  63, 155]])"
      ]
     },
     "execution_count": 32,
     "metadata": {},
     "output_type": "execute_result"
    }
   ],
   "source": [
    "B.dot(A)"
   ]
  },
  {
   "cell_type": "code",
   "execution_count": 37,
   "id": "e85f62b9",
   "metadata": {},
   "outputs": [
    {
     "data": {
      "text/plain": [
       "array([[ 21,  22,  57],\n",
       "       [ 22,  69,  63],\n",
       "       [ 57,  63, 155]])"
      ]
     },
     "execution_count": 37,
     "metadata": {},
     "output_type": "execute_result"
    }
   ],
   "source": [
    "np.matmul(B, A)"
   ]
  },
  {
   "cell_type": "code",
   "execution_count": 38,
   "id": "1d335d6a",
   "metadata": {},
   "outputs": [
    {
     "data": {
      "text/plain": [
       "array([[ 0.05,  0.1 ,  0.15],\n",
       "       [-0.1 ,  0.2 , -0.25],\n",
       "       [ 0.2 ,  0.35,  0.55]])"
      ]
     },
     "execution_count": 38,
     "metadata": {},
     "output_type": "execute_result"
    }
   ],
   "source": [
    "A/20  # scaler division"
   ]
  },
  {
   "cell_type": "code",
   "execution_count": 39,
   "id": "fc6967df",
   "metadata": {},
   "outputs": [
    {
     "data": {
      "text/plain": [
       "array([[ 1.        , -1.        ,  0.75      ],\n",
       "       [-1.        ,  1.        , -0.71428571],\n",
       "       [ 1.33333333, -1.4       ,  1.        ]])"
      ]
     },
     "execution_count": 39,
     "metadata": {},
     "output_type": "execute_result"
    }
   ],
   "source": [
    "A/B  # elelment-wise division"
   ]
  },
  {
   "cell_type": "code",
   "execution_count": 40,
   "id": "9e401144",
   "metadata": {},
   "outputs": [
    {
     "data": {
      "text/plain": [
       "array([[ 1,  2],\n",
       "       [-2,  4],\n",
       "       [ 4,  7]])"
      ]
     },
     "execution_count": 40,
     "metadata": {},
     "output_type": "execute_result"
    }
   ],
   "source": [
    "A[:,:2]  # All rows and fist 2 columns of A"
   ]
  },
  {
   "cell_type": "code",
   "execution_count": 41,
   "id": "cf7fb35b",
   "metadata": {},
   "outputs": [],
   "source": [
    "B1 = A[:,:2] "
   ]
  },
  {
   "cell_type": "code",
   "execution_count": 42,
   "id": "d809ebee",
   "metadata": {},
   "outputs": [
    {
     "data": {
      "text/plain": [
       "array([[  9,  31],\n",
       "       [-30, -23],\n",
       "       [ 34, 113]])"
      ]
     },
     "execution_count": 42,
     "metadata": {},
     "output_type": "execute_result"
    }
   ],
   "source": [
    "A.dot(B1)  "
   ]
  },
  {
   "cell_type": "code",
   "execution_count": 43,
   "id": "567abf89",
   "metadata": {},
   "outputs": [
    {
     "ename": "ValueError",
     "evalue": "shapes (3,2) and (3,3) not aligned: 2 (dim 1) != 3 (dim 0)",
     "output_type": "error",
     "traceback": [
      "\u001b[1;31m---------------------------------------------------------------------------\u001b[0m",
      "\u001b[1;31mValueError\u001b[0m                                Traceback (most recent call last)",
      "Cell \u001b[1;32mIn[43], line 1\u001b[0m\n\u001b[1;32m----> 1\u001b[0m B1\u001b[38;5;241m.\u001b[39mdot(A)\n",
      "\u001b[1;31mValueError\u001b[0m: shapes (3,2) and (3,3) not aligned: 2 (dim 1) != 3 (dim 0)"
     ]
    }
   ],
   "source": [
    "B1.dot(A)"
   ]
  },
  {
   "cell_type": "code",
   "execution_count": 44,
   "id": "7f34b101",
   "metadata": {},
   "outputs": [
    {
     "data": {
      "text/plain": [
       "array([[ 1,  2,  3],\n",
       "       [-2,  4, -5],\n",
       "       [ 4,  7, 11]])"
      ]
     },
     "execution_count": 44,
     "metadata": {},
     "output_type": "execute_result"
    }
   ],
   "source": [
    "A"
   ]
  },
  {
   "cell_type": "code",
   "execution_count": 45,
   "id": "13d65c41",
   "metadata": {},
   "outputs": [
    {
     "data": {
      "text/plain": [
       "array([[-11.28571429,   0.14285714,   3.14285714],\n",
       "       [ -0.28571429,   0.14285714,   0.14285714],\n",
       "       [  4.28571429,  -0.14285714,  -1.14285714]])"
      ]
     },
     "execution_count": 45,
     "metadata": {},
     "output_type": "execute_result"
    }
   ],
   "source": [
    "np.linalg.inv(A)"
   ]
  },
  {
   "cell_type": "code",
   "execution_count": 46,
   "id": "ece8f66a",
   "metadata": {},
   "outputs": [
    {
     "data": {
      "text/plain": [
       "array([[1, 2, 3],\n",
       "       [4, 5, 6],\n",
       "       [7, 8, 9]])"
      ]
     },
     "execution_count": 46,
     "metadata": {},
     "output_type": "execute_result"
    }
   ],
   "source": [
    "A1 = np.array([[1,2,3], [4,5,6], [7,8,9]])\n",
    "A1"
   ]
  },
  {
   "cell_type": "code",
   "execution_count": 47,
   "id": "96621df8",
   "metadata": {},
   "outputs": [
    {
     "data": {
      "text/plain": [
       "array([[ 3.15251974e+15, -6.30503948e+15,  3.15251974e+15],\n",
       "       [-6.30503948e+15,  1.26100790e+16, -6.30503948e+15],\n",
       "       [ 3.15251974e+15, -6.30503948e+15,  3.15251974e+15]])"
      ]
     },
     "execution_count": 47,
     "metadata": {},
     "output_type": "execute_result"
    }
   ],
   "source": [
    "np.linalg.inv(A1)"
   ]
  },
  {
   "cell_type": "code",
   "execution_count": 48,
   "id": "07b4f8d1",
   "metadata": {},
   "outputs": [
    {
     "data": {
      "text/plain": [
       "-2.7755575615628914e-17"
      ]
     },
     "execution_count": 48,
     "metadata": {},
     "output_type": "execute_result"
    }
   ],
   "source": [
    "0.3 - 0.2 - 0.1"
   ]
  },
  {
   "cell_type": "code",
   "execution_count": 50,
   "id": "49da26a8",
   "metadata": {},
   "outputs": [
    {
     "name": "stdout",
     "output_type": "stream",
     "text": [
      "2.220446049250313e-16\n"
     ]
    }
   ],
   "source": [
    "print(np.finfo(float).eps)   # smallest floating-point number possible in your computer\n",
    "# Resolution limit in Python"
   ]
  },
  {
   "cell_type": "code",
   "execution_count": 49,
   "id": "afe283a1",
   "metadata": {},
   "outputs": [
    {
     "data": {
      "text/plain": [
       "-9.51619735392994e-16"
      ]
     },
     "execution_count": 49,
     "metadata": {},
     "output_type": "execute_result"
    }
   ],
   "source": [
    "np.linalg.det(A1)  # the deteminant of this matrix is actually 0."
   ]
  },
  {
   "cell_type": "code",
   "execution_count": 51,
   "id": "8e1c3e87",
   "metadata": {},
   "outputs": [
    {
     "data": {
      "text/plain": [
       "array([[1, 2, 3],\n",
       "       [4, 5, 6],\n",
       "       [2, 4, 6]])"
      ]
     },
     "execution_count": 51,
     "metadata": {},
     "output_type": "execute_result"
    }
   ],
   "source": [
    "A2 = np.array([[1,2,3], [4,5,6], [2,4,6]])\n",
    "A2"
   ]
  },
  {
   "cell_type": "code",
   "execution_count": 52,
   "id": "2c21ae0a",
   "metadata": {},
   "outputs": [
    {
     "data": {
      "text/plain": [
       "0.0"
      ]
     },
     "execution_count": 52,
     "metadata": {},
     "output_type": "execute_result"
    }
   ],
   "source": [
    "np.linalg.det(A2) "
   ]
  },
  {
   "cell_type": "code",
   "execution_count": 53,
   "id": "3913cd8e",
   "metadata": {},
   "outputs": [
    {
     "data": {
      "text/plain": [
       "array([[ 3.15251974e+15, -6.30503948e+15,  3.15251974e+15],\n",
       "       [-6.30503948e+15,  1.26100790e+16, -6.30503948e+15],\n",
       "       [ 3.15251974e+15, -6.30503948e+15,  3.15251974e+15]])"
      ]
     },
     "execution_count": 53,
     "metadata": {},
     "output_type": "execute_result"
    }
   ],
   "source": [
    "np.linalg.inv(A1) "
   ]
  },
  {
   "cell_type": "markdown",
   "id": "7a4df95c",
   "metadata": {},
   "source": [
    "# Some Matrix Creation Functions"
   ]
  },
  {
   "cell_type": "code",
   "execution_count": 56,
   "id": "9fb876bf",
   "metadata": {},
   "outputs": [
    {
     "data": {
      "text/plain": [
       "array([0., 0., 0.])"
      ]
     },
     "execution_count": 56,
     "metadata": {},
     "output_type": "execute_result"
    }
   ],
   "source": [
    "np.zeros(3)  # 1D array of zeros"
   ]
  },
  {
   "cell_type": "code",
   "execution_count": 55,
   "id": "713766fe",
   "metadata": {},
   "outputs": [
    {
     "data": {
      "text/plain": [
       "array([[0., 0., 0., 0.],\n",
       "       [0., 0., 0., 0.],\n",
       "       [0., 0., 0., 0.]])"
      ]
     },
     "execution_count": 55,
     "metadata": {},
     "output_type": "execute_result"
    }
   ],
   "source": [
    "np.zeros((3,4))  # 2D array of zeros"
   ]
  },
  {
   "cell_type": "code",
   "execution_count": 57,
   "id": "70d87104",
   "metadata": {},
   "outputs": [
    {
     "data": {
      "text/plain": [
       "array([[1., 1., 1., 1.],\n",
       "       [1., 1., 1., 1.],\n",
       "       [1., 1., 1., 1.]])"
      ]
     },
     "execution_count": 57,
     "metadata": {},
     "output_type": "execute_result"
    }
   ],
   "source": [
    "np.ones((3,4)) "
   ]
  },
  {
   "cell_type": "code",
   "execution_count": 59,
   "id": "7b924042",
   "metadata": {},
   "outputs": [
    {
     "data": {
      "text/plain": [
       "array([[100., 100., 100., 100.],\n",
       "       [100., 100., 100., 100.],\n",
       "       [100., 100., 100., 100.]])"
      ]
     },
     "execution_count": 59,
     "metadata": {},
     "output_type": "execute_result"
    }
   ],
   "source": [
    "100*np.ones((3,4)) "
   ]
  },
  {
   "cell_type": "code",
   "execution_count": 62,
   "id": "12beffb7",
   "metadata": {},
   "outputs": [
    {
     "data": {
      "text/plain": [
       "dtype('float64')"
      ]
     },
     "execution_count": 62,
     "metadata": {},
     "output_type": "execute_result"
    }
   ],
   "source": [
    "I = np.eye(4)\n",
    "I.dtype"
   ]
  },
  {
   "cell_type": "code",
   "execution_count": 61,
   "id": "243fc1d3",
   "metadata": {},
   "outputs": [
    {
     "data": {
      "text/plain": [
       "array([[1, 0, 0, 0],\n",
       "       [0, 2, 0, 0],\n",
       "       [0, 0, 3, 0],\n",
       "       [0, 0, 0, 4]])"
      ]
     },
     "execution_count": 61,
     "metadata": {},
     "output_type": "execute_result"
    }
   ],
   "source": [
    "v = [1,2,3,4]\n",
    "np.diag(v)    #create a diagonal matrix with the supplied vector"
   ]
  },
  {
   "cell_type": "code",
   "execution_count": 63,
   "id": "8a2fde23",
   "metadata": {},
   "outputs": [
    {
     "data": {
      "text/plain": [
       "array([10, 20, 30, 40, 50, 60, 70, 80, 90])"
      ]
     },
     "execution_count": 63,
     "metadata": {},
     "output_type": "execute_result"
    }
   ],
   "source": [
    "# create an array of numbers from 10 to 100 with an increment of 10\n",
    "np.arange(10, 100, 10)   # start_num, stop_num, increment"
   ]
  },
  {
   "cell_type": "code",
   "execution_count": 64,
   "id": "f1a368c5",
   "metadata": {},
   "outputs": [
    {
     "data": {
      "text/plain": [
       "array([ 10,  20,  30,  40,  50,  60,  70,  80,  90, 100])"
      ]
     },
     "execution_count": 64,
     "metadata": {},
     "output_type": "execute_result"
    }
   ],
   "source": [
    "np.arange(10, 101, 10) "
   ]
  },
  {
   "cell_type": "code",
   "execution_count": 65,
   "id": "e3037863",
   "metadata": {},
   "outputs": [
    {
     "data": {
      "text/plain": [
       "array([100,  80,  60,  40,  20])"
      ]
     },
     "execution_count": 65,
     "metadata": {},
     "output_type": "execute_result"
    }
   ],
   "source": [
    "np.arange(100, 1, -20) "
   ]
  },
  {
   "cell_type": "code",
   "execution_count": null,
   "id": "0eb47c90",
   "metadata": {},
   "outputs": [],
   "source": []
  },
  {
   "cell_type": "markdown",
   "id": "65982580",
   "metadata": {},
   "source": [
    "# Linear Algebra"
   ]
  },
  {
   "cell_type": "code",
   "execution_count": 66,
   "id": "a15a3b09",
   "metadata": {},
   "outputs": [
    {
     "data": {
      "text/plain": [
       "array([[ 1,  2,  3],\n",
       "       [-2,  4, -5],\n",
       "       [ 4,  7, 11]])"
      ]
     },
     "execution_count": 66,
     "metadata": {},
     "output_type": "execute_result"
    }
   ],
   "source": [
    "# Matrix Rank\n",
    "A"
   ]
  },
  {
   "cell_type": "code",
   "execution_count": 67,
   "id": "d4c2d731",
   "metadata": {},
   "outputs": [
    {
     "data": {
      "text/plain": [
       "3"
      ]
     },
     "execution_count": 67,
     "metadata": {},
     "output_type": "execute_result"
    }
   ],
   "source": [
    "np.linalg.matrix_rank(A)"
   ]
  },
  {
   "cell_type": "code",
   "execution_count": 69,
   "id": "93987aeb",
   "metadata": {},
   "outputs": [
    {
     "data": {
      "text/plain": [
       "array([[1, 2, 3],\n",
       "       [4, 5, 6],\n",
       "       [2, 4, 6]])"
      ]
     },
     "execution_count": 69,
     "metadata": {},
     "output_type": "execute_result"
    }
   ],
   "source": [
    "A2"
   ]
  },
  {
   "cell_type": "code",
   "execution_count": 70,
   "id": "e4bf6d43",
   "metadata": {},
   "outputs": [
    {
     "data": {
      "text/plain": [
       "2"
      ]
     },
     "execution_count": 70,
     "metadata": {},
     "output_type": "execute_result"
    }
   ],
   "source": [
    "np.linalg.matrix_rank(A2)"
   ]
  },
  {
   "cell_type": "code",
   "execution_count": 72,
   "id": "6bbd59a5",
   "metadata": {},
   "outputs": [
    {
     "data": {
      "text/plain": [
       "array([1, 2])"
      ]
     },
     "execution_count": 72,
     "metadata": {},
     "output_type": "execute_result"
    }
   ],
   "source": [
    "A2[0, :]   # fetching the 1st row"
   ]
  },
  {
   "cell_type": "code",
   "execution_count": 73,
   "id": "cea4e329",
   "metadata": {},
   "outputs": [
    {
     "data": {
      "text/plain": [
       "array([2, 4, 6])"
      ]
     },
     "execution_count": 73,
     "metadata": {},
     "output_type": "execute_result"
    }
   ],
   "source": [
    "A2[-1, :]   # fetching the last row"
   ]
  },
  {
   "cell_type": "code",
   "execution_count": 74,
   "id": "76d668b3",
   "metadata": {},
   "outputs": [
    {
     "data": {
      "text/plain": [
       "array([3, 6, 6])"
      ]
     },
     "execution_count": 74,
     "metadata": {},
     "output_type": "execute_result"
    }
   ],
   "source": [
    "A2[:, -1]   # fetching all the rows of the last col"
   ]
  },
  {
   "cell_type": "code",
   "execution_count": 75,
   "id": "05c42071",
   "metadata": {},
   "outputs": [
    {
     "data": {
      "text/plain": [
       "array([300, 600, 600])"
      ]
     },
     "execution_count": 75,
     "metadata": {},
     "output_type": "execute_result"
    }
   ],
   "source": [
    "100*A2[:, -1]"
   ]
  },
  {
   "cell_type": "code",
   "execution_count": 76,
   "id": "0e484a81",
   "metadata": {},
   "outputs": [
    {
     "data": {
      "text/plain": [
       "array([[1, 2, 3],\n",
       "       [4, 5, 6],\n",
       "       [2, 4, 6]])"
      ]
     },
     "execution_count": 76,
     "metadata": {},
     "output_type": "execute_result"
    }
   ],
   "source": [
    "A2"
   ]
  },
  {
   "cell_type": "code",
   "execution_count": 77,
   "id": "782fb896",
   "metadata": {},
   "outputs": [
    {
     "data": {
      "text/plain": [
       "array([[21,  2,  3],\n",
       "       [45,  5,  6],\n",
       "       [42,  4,  6]])"
      ]
     },
     "execution_count": 77,
     "metadata": {},
     "output_type": "execute_result"
    }
   ],
   "source": [
    "A2[:,0] = 5*A2[:, -1] + 3*A2[:, 1]\n",
    "A2"
   ]
  },
  {
   "cell_type": "code",
   "execution_count": 78,
   "id": "762aed2e",
   "metadata": {},
   "outputs": [
    {
     "data": {
      "text/plain": [
       "array([[21,  2, 10],\n",
       "       [45,  5, 25],\n",
       "       [42,  4, 20]])"
      ]
     },
     "execution_count": 78,
     "metadata": {},
     "output_type": "execute_result"
    }
   ],
   "source": [
    "A2[:,-1] = 5*A2[:, 1]\n",
    "A2"
   ]
  },
  {
   "cell_type": "code",
   "execution_count": 80,
   "id": "55bf3644",
   "metadata": {},
   "outputs": [
    {
     "data": {
      "text/plain": [
       "array([[ 56,   2,  10],\n",
       "       [140,   5,  25],\n",
       "       [112,   4,  20]])"
      ]
     },
     "execution_count": 80,
     "metadata": {},
     "output_type": "execute_result"
    }
   ],
   "source": [
    "A2[:,0] = 5*A2[:, -1] + 3*A2[:, 1]\n",
    "A2"
   ]
  },
  {
   "cell_type": "code",
   "execution_count": 81,
   "id": "7f40a28f",
   "metadata": {},
   "outputs": [
    {
     "data": {
      "text/plain": [
       "1"
      ]
     },
     "execution_count": 81,
     "metadata": {},
     "output_type": "execute_result"
    }
   ],
   "source": [
    "np.linalg.matrix_rank(A2)"
   ]
  },
  {
   "cell_type": "markdown",
   "id": "0604f61d",
   "metadata": {},
   "source": [
    "# Solving System of Linear Equations\n",
    "\n",
    "2x + 3y + 5z = 10\n",
    "\n",
    "3x + 2y + 1z = 8\n",
    "\n",
    "2x + 1y + 2z = 6\n"
   ]
  },
  {
   "cell_type": "code",
   "execution_count": 83,
   "id": "5cdff9ba",
   "metadata": {},
   "outputs": [],
   "source": [
    "# Define your matrices\n",
    "A = np.array([\n",
    "    [2, 3, 5],\n",
    "    [3, 2, 1],\n",
    "    [2, 1, 2]])"
   ]
  },
  {
   "cell_type": "code",
   "execution_count": 90,
   "id": "437f69a3",
   "metadata": {},
   "outputs": [
    {
     "data": {
      "text/plain": [
       "array([[10],\n",
       "       [ 8],\n",
       "       [ 6]])"
      ]
     },
     "execution_count": 90,
     "metadata": {},
     "output_type": "execute_result"
    }
   ],
   "source": [
    "B = np.array([10, 8, 6]).reshape(-1, 1)\n",
    "B"
   ]
  },
  {
   "cell_type": "code",
   "execution_count": 91,
   "id": "7b36c8a1",
   "metadata": {},
   "outputs": [
    {
     "data": {
      "text/plain": [
       "array([[1.81818182],\n",
       "       [0.90909091],\n",
       "       [0.72727273]])"
      ]
     },
     "execution_count": 91,
     "metadata": {},
     "output_type": "execute_result"
    }
   ],
   "source": [
    "# x = inverse of A * B \n",
    "x = np.linalg.inv(A).dot(B)\n",
    "x"
   ]
  },
  {
   "cell_type": "code",
   "execution_count": 92,
   "id": "0fe4b10c",
   "metadata": {},
   "outputs": [
    {
     "data": {
      "text/plain": [
       "array([[1.82],\n",
       "       [0.91],\n",
       "       [0.73]])"
      ]
     },
     "execution_count": 92,
     "metadata": {},
     "output_type": "execute_result"
    }
   ],
   "source": [
    "x.round(2)"
   ]
  },
  {
   "cell_type": "code",
   "execution_count": 93,
   "id": "cabac360",
   "metadata": {},
   "outputs": [
    {
     "data": {
      "text/plain": [
       "array([[1.81818182],\n",
       "       [0.90909091],\n",
       "       [0.72727273]])"
      ]
     },
     "execution_count": 93,
     "metadata": {},
     "output_type": "execute_result"
    }
   ],
   "source": [
    "np.linalg.solve(A, B)   # solve() can be used to solve system og linear equations"
   ]
  },
  {
   "cell_type": "code",
   "execution_count": null,
   "id": "fcb8fa14",
   "metadata": {},
   "outputs": [],
   "source": []
  },
  {
   "cell_type": "code",
   "execution_count": null,
   "id": "dd3d1292",
   "metadata": {},
   "outputs": [],
   "source": []
  },
  {
   "cell_type": "code",
   "execution_count": null,
   "id": "d495b7e6",
   "metadata": {},
   "outputs": [],
   "source": []
  },
  {
   "cell_type": "code",
   "execution_count": null,
   "id": "914c86d0",
   "metadata": {},
   "outputs": [],
   "source": []
  }
 ],
 "metadata": {
  "kernelspec": {
   "display_name": "Python 3 (ipykernel)",
   "language": "python",
   "name": "python3"
  },
  "language_info": {
   "codemirror_mode": {
    "name": "ipython",
    "version": 3
   },
   "file_extension": ".py",
   "mimetype": "text/x-python",
   "name": "python",
   "nbconvert_exporter": "python",
   "pygments_lexer": "ipython3",
   "version": "3.11.5"
  }
 },
 "nbformat": 4,
 "nbformat_minor": 5
}
