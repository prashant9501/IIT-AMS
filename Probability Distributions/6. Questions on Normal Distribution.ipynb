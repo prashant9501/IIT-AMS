{
 "cells": [
  {
   "cell_type": "code",
   "execution_count": null,
   "metadata": {},
   "outputs": [],
   "source": [
    "import pandas as pd"
   ]
  },
  {
   "cell_type": "code",
   "execution_count": 6,
   "metadata": {},
   "outputs": [
    {
     "data": {
      "text/html": [
       "<div>\n",
       "<style scoped>\n",
       "    .dataframe tbody tr th:only-of-type {\n",
       "        vertical-align: middle;\n",
       "    }\n",
       "\n",
       "    .dataframe tbody tr th {\n",
       "        vertical-align: top;\n",
       "    }\n",
       "\n",
       "    .dataframe thead th {\n",
       "        text-align: right;\n",
       "    }\n",
       "</style>\n",
       "<table border=\"1\" class=\"dataframe\">\n",
       "  <thead>\n",
       "    <tr style=\"text-align: right;\">\n",
       "      <th></th>\n",
       "      <th>customer_id</th>\n",
       "      <th>vintage</th>\n",
       "      <th>age</th>\n",
       "      <th>gender</th>\n",
       "      <th>dependents</th>\n",
       "      <th>occupation</th>\n",
       "      <th>city</th>\n",
       "      <th>customer_nw_category</th>\n",
       "      <th>branch_code</th>\n",
       "      <th>current_balance</th>\n",
       "      <th>...</th>\n",
       "      <th>average_monthly_balance_prevQ</th>\n",
       "      <th>average_monthly_balance_prevQ2</th>\n",
       "      <th>current_month_credit</th>\n",
       "      <th>previous_month_credit</th>\n",
       "      <th>current_month_debit</th>\n",
       "      <th>previous_month_debit</th>\n",
       "      <th>current_month_balance</th>\n",
       "      <th>previous_month_balance</th>\n",
       "      <th>last_transaction</th>\n",
       "      <th>churn</th>\n",
       "    </tr>\n",
       "  </thead>\n",
       "  <tbody>\n",
       "    <tr>\n",
       "      <th>0</th>\n",
       "      <td>1</td>\n",
       "      <td>2401</td>\n",
       "      <td>66</td>\n",
       "      <td>Male</td>\n",
       "      <td>0.0</td>\n",
       "      <td>self_employed</td>\n",
       "      <td>187.0</td>\n",
       "      <td>2</td>\n",
       "      <td>755</td>\n",
       "      <td>1458.71</td>\n",
       "      <td>...</td>\n",
       "      <td>1458.71</td>\n",
       "      <td>1449.07</td>\n",
       "      <td>0.20</td>\n",
       "      <td>0.20</td>\n",
       "      <td>0.20</td>\n",
       "      <td>0.20</td>\n",
       "      <td>1458.71</td>\n",
       "      <td>1458.71</td>\n",
       "      <td>2019-05-21</td>\n",
       "      <td>0.0</td>\n",
       "    </tr>\n",
       "    <tr>\n",
       "      <th>1</th>\n",
       "      <td>2</td>\n",
       "      <td>2648</td>\n",
       "      <td>35</td>\n",
       "      <td>Male</td>\n",
       "      <td>0.0</td>\n",
       "      <td>self_employed</td>\n",
       "      <td>NaN</td>\n",
       "      <td>2</td>\n",
       "      <td>3214</td>\n",
       "      <td>5390.37</td>\n",
       "      <td>...</td>\n",
       "      <td>7799.26</td>\n",
       "      <td>12419.41</td>\n",
       "      <td>0.56</td>\n",
       "      <td>0.56</td>\n",
       "      <td>5486.27</td>\n",
       "      <td>100.56</td>\n",
       "      <td>6496.78</td>\n",
       "      <td>8787.61</td>\n",
       "      <td>2019-11-01</td>\n",
       "      <td>0.0</td>\n",
       "    </tr>\n",
       "    <tr>\n",
       "      <th>2</th>\n",
       "      <td>4</td>\n",
       "      <td>2494</td>\n",
       "      <td>31</td>\n",
       "      <td>Male</td>\n",
       "      <td>0.0</td>\n",
       "      <td>salaried</td>\n",
       "      <td>146.0</td>\n",
       "      <td>2</td>\n",
       "      <td>41</td>\n",
       "      <td>3913.16</td>\n",
       "      <td>...</td>\n",
       "      <td>4910.17</td>\n",
       "      <td>2815.94</td>\n",
       "      <td>0.61</td>\n",
       "      <td>0.61</td>\n",
       "      <td>6046.73</td>\n",
       "      <td>259.23</td>\n",
       "      <td>5006.28</td>\n",
       "      <td>5070.14</td>\n",
       "      <td>NaT</td>\n",
       "      <td>0.0</td>\n",
       "    </tr>\n",
       "    <tr>\n",
       "      <th>3</th>\n",
       "      <td>5</td>\n",
       "      <td>2629</td>\n",
       "      <td>90</td>\n",
       "      <td>NaN</td>\n",
       "      <td>NaN</td>\n",
       "      <td>self_employed</td>\n",
       "      <td>1020.0</td>\n",
       "      <td>2</td>\n",
       "      <td>582</td>\n",
       "      <td>2291.91</td>\n",
       "      <td>...</td>\n",
       "      <td>2084.54</td>\n",
       "      <td>1006.54</td>\n",
       "      <td>0.47</td>\n",
       "      <td>0.47</td>\n",
       "      <td>0.47</td>\n",
       "      <td>2143.33</td>\n",
       "      <td>2291.91</td>\n",
       "      <td>1669.79</td>\n",
       "      <td>2019-08-06</td>\n",
       "      <td>1.0</td>\n",
       "    </tr>\n",
       "    <tr>\n",
       "      <th>4</th>\n",
       "      <td>6</td>\n",
       "      <td>1879</td>\n",
       "      <td>42</td>\n",
       "      <td>Male</td>\n",
       "      <td>2.0</td>\n",
       "      <td>self_employed</td>\n",
       "      <td>1494.0</td>\n",
       "      <td>3</td>\n",
       "      <td>388</td>\n",
       "      <td>927.72</td>\n",
       "      <td>...</td>\n",
       "      <td>1643.31</td>\n",
       "      <td>1871.12</td>\n",
       "      <td>0.33</td>\n",
       "      <td>714.61</td>\n",
       "      <td>588.62</td>\n",
       "      <td>1538.06</td>\n",
       "      <td>1157.15</td>\n",
       "      <td>1677.16</td>\n",
       "      <td>2019-11-03</td>\n",
       "      <td>1.0</td>\n",
       "    </tr>\n",
       "  </tbody>\n",
       "</table>\n",
       "<p>5 rows × 21 columns</p>\n",
       "</div>"
      ],
      "text/plain": [
       "   customer_id  vintage  age gender  dependents     occupation    city  \\\n",
       "0            1     2401   66   Male         0.0  self_employed   187.0   \n",
       "1            2     2648   35   Male         0.0  self_employed     NaN   \n",
       "2            4     2494   31   Male         0.0       salaried   146.0   \n",
       "3            5     2629   90    NaN         NaN  self_employed  1020.0   \n",
       "4            6     1879   42   Male         2.0  self_employed  1494.0   \n",
       "\n",
       "   customer_nw_category  branch_code  current_balance  ...  \\\n",
       "0                     2          755          1458.71  ...   \n",
       "1                     2         3214          5390.37  ...   \n",
       "2                     2           41          3913.16  ...   \n",
       "3                     2          582          2291.91  ...   \n",
       "4                     3          388           927.72  ...   \n",
       "\n",
       "   average_monthly_balance_prevQ  average_monthly_balance_prevQ2  \\\n",
       "0                        1458.71                         1449.07   \n",
       "1                        7799.26                        12419.41   \n",
       "2                        4910.17                         2815.94   \n",
       "3                        2084.54                         1006.54   \n",
       "4                        1643.31                         1871.12   \n",
       "\n",
       "   current_month_credit  previous_month_credit  current_month_debit  \\\n",
       "0                  0.20                   0.20                 0.20   \n",
       "1                  0.56                   0.56              5486.27   \n",
       "2                  0.61                   0.61              6046.73   \n",
       "3                  0.47                   0.47                 0.47   \n",
       "4                  0.33                 714.61               588.62   \n",
       "\n",
       "   previous_month_debit  current_month_balance  previous_month_balance  \\\n",
       "0                  0.20                1458.71                 1458.71   \n",
       "1                100.56                6496.78                 8787.61   \n",
       "2                259.23                5006.28                 5070.14   \n",
       "3               2143.33                2291.91                 1669.79   \n",
       "4               1538.06                1157.15                 1677.16   \n",
       "\n",
       "   last_transaction churn  \n",
       "0        2019-05-21   0.0  \n",
       "1        2019-11-01   0.0  \n",
       "2               NaT   0.0  \n",
       "3        2019-08-06   1.0  \n",
       "4        2019-11-03   1.0  \n",
       "\n",
       "[5 rows x 21 columns]"
      ]
     },
     "execution_count": 6,
     "metadata": {},
     "output_type": "execute_result"
    }
   ],
   "source": [
    "df1 = pd.read_csv(\"churn_prediction.csv\")\n",
    "df1.head()"
   ]
  },
  {
   "cell_type": "code",
   "execution_count": 7,
   "metadata": {},
   "outputs": [
    {
     "name": "stdout",
     "output_type": "stream",
     "text": [
      "<class 'pandas.core.frame.DataFrame'>\n",
      "RangeIndex: 15930 entries, 0 to 15929\n",
      "Data columns (total 21 columns):\n",
      " #   Column                          Non-Null Count  Dtype  \n",
      "---  ------                          --------------  -----  \n",
      " 0   customer_id                     15930 non-null  int64  \n",
      " 1   vintage                         15930 non-null  int64  \n",
      " 2   age                             15930 non-null  int64  \n",
      " 3   gender                          15642 non-null  object \n",
      " 4   dependents                      14582 non-null  float64\n",
      " 5   occupation                      15883 non-null  object \n",
      " 6   city                            15470 non-null  float64\n",
      " 7   customer_nw_category            15930 non-null  int64  \n",
      " 8   branch_code                     15930 non-null  int64  \n",
      " 9   current_balance                 15930 non-null  float64\n",
      " 10  previous_month_end_balance      15930 non-null  float64\n",
      " 11  average_monthly_balance_prevQ   15930 non-null  float64\n",
      " 12  average_monthly_balance_prevQ2  15930 non-null  float64\n",
      " 13  current_month_credit            15930 non-null  float64\n",
      " 14  previous_month_credit           15930 non-null  float64\n",
      " 15  current_month_debit             15930 non-null  float64\n",
      " 16  previous_month_debit            15929 non-null  float64\n",
      " 17  current_month_balance           15929 non-null  float64\n",
      " 18  previous_month_balance          15929 non-null  float64\n",
      " 19  last_transaction                15929 non-null  object \n",
      " 20  churn                           15929 non-null  float64\n",
      "dtypes: float64(13), int64(5), object(3)\n",
      "memory usage: 2.6+ MB\n"
     ]
    }
   ],
   "source": [
    "df1.info()   # csv version"
   ]
  },
  {
   "cell_type": "code",
   "execution_count": 8,
   "metadata": {},
   "outputs": [],
   "source": [
    "df1[\"gender\"] = df1[\"gender\"].astype(\"category\")"
   ]
  },
  {
   "cell_type": "code",
   "execution_count": 9,
   "metadata": {},
   "outputs": [
    {
     "name": "stdout",
     "output_type": "stream",
     "text": [
      "<class 'pandas.core.frame.DataFrame'>\n",
      "RangeIndex: 15930 entries, 0 to 15929\n",
      "Data columns (total 21 columns):\n",
      " #   Column                          Non-Null Count  Dtype   \n",
      "---  ------                          --------------  -----   \n",
      " 0   customer_id                     15930 non-null  int64   \n",
      " 1   vintage                         15930 non-null  int64   \n",
      " 2   age                             15930 non-null  int64   \n",
      " 3   gender                          15642 non-null  category\n",
      " 4   dependents                      14582 non-null  float64 \n",
      " 5   occupation                      15883 non-null  object  \n",
      " 6   city                            15470 non-null  float64 \n",
      " 7   customer_nw_category            15930 non-null  int64   \n",
      " 8   branch_code                     15930 non-null  int64   \n",
      " 9   current_balance                 15930 non-null  float64 \n",
      " 10  previous_month_end_balance      15930 non-null  float64 \n",
      " 11  average_monthly_balance_prevQ   15930 non-null  float64 \n",
      " 12  average_monthly_balance_prevQ2  15930 non-null  float64 \n",
      " 13  current_month_credit            15930 non-null  float64 \n",
      " 14  previous_month_credit           15930 non-null  float64 \n",
      " 15  current_month_debit             15930 non-null  float64 \n",
      " 16  previous_month_debit            15929 non-null  float64 \n",
      " 17  current_month_balance           15929 non-null  float64 \n",
      " 18  previous_month_balance          15929 non-null  float64 \n",
      " 19  last_transaction                15929 non-null  object  \n",
      " 20  churn                           15929 non-null  float64 \n",
      "dtypes: category(1), float64(13), int64(5), object(2)\n",
      "memory usage: 2.4+ MB\n"
     ]
    }
   ],
   "source": [
    "df1.info()"
   ]
  },
  {
   "cell_type": "code",
   "execution_count": null,
   "metadata": {},
   "outputs": [],
   "source": []
  },
  {
   "cell_type": "code",
   "execution_count": null,
   "metadata": {},
   "outputs": [],
   "source": []
  },
  {
   "cell_type": "code",
   "execution_count": 1,
   "metadata": {},
   "outputs": [
    {
     "data": {
      "text/html": [
       "<div>\n",
       "<style scoped>\n",
       "    .dataframe tbody tr th:only-of-type {\n",
       "        vertical-align: middle;\n",
       "    }\n",
       "\n",
       "    .dataframe tbody tr th {\n",
       "        vertical-align: top;\n",
       "    }\n",
       "\n",
       "    .dataframe thead th {\n",
       "        text-align: right;\n",
       "    }\n",
       "</style>\n",
       "<table border=\"1\" class=\"dataframe\">\n",
       "  <thead>\n",
       "    <tr style=\"text-align: right;\">\n",
       "      <th></th>\n",
       "      <th>vintage</th>\n",
       "      <th>age</th>\n",
       "      <th>gender</th>\n",
       "      <th>dependents</th>\n",
       "      <th>occupation</th>\n",
       "      <th>city</th>\n",
       "      <th>customer_nw_category</th>\n",
       "      <th>branch_code</th>\n",
       "      <th>current_balance</th>\n",
       "      <th>previous_month_end_balance</th>\n",
       "      <th>average_monthly_balance_prevQ</th>\n",
       "      <th>average_monthly_balance_prevQ2</th>\n",
       "      <th>current_month_credit</th>\n",
       "      <th>previous_month_credit</th>\n",
       "      <th>current_month_debit</th>\n",
       "      <th>previous_month_debit</th>\n",
       "      <th>current_month_balance</th>\n",
       "      <th>previous_month_balance</th>\n",
       "      <th>churn</th>\n",
       "    </tr>\n",
       "  </thead>\n",
       "  <tbody>\n",
       "    <tr>\n",
       "      <th>0</th>\n",
       "      <td>2401</td>\n",
       "      <td>66</td>\n",
       "      <td>Male</td>\n",
       "      <td>0</td>\n",
       "      <td>self_employed</td>\n",
       "      <td>187</td>\n",
       "      <td>2</td>\n",
       "      <td>755</td>\n",
       "      <td>1458.71</td>\n",
       "      <td>1458.71</td>\n",
       "      <td>1458.71</td>\n",
       "      <td>1449.07</td>\n",
       "      <td>0.20</td>\n",
       "      <td>0.20</td>\n",
       "      <td>0.20</td>\n",
       "      <td>0.20</td>\n",
       "      <td>1458.71</td>\n",
       "      <td>1458.71</td>\n",
       "      <td>0.0</td>\n",
       "    </tr>\n",
       "    <tr>\n",
       "      <th>1</th>\n",
       "      <td>2648</td>\n",
       "      <td>35</td>\n",
       "      <td>Male</td>\n",
       "      <td>0</td>\n",
       "      <td>self_employed</td>\n",
       "      <td>100000</td>\n",
       "      <td>2</td>\n",
       "      <td>3214</td>\n",
       "      <td>5390.37</td>\n",
       "      <td>8704.66</td>\n",
       "      <td>7799.26</td>\n",
       "      <td>12419.41</td>\n",
       "      <td>0.56</td>\n",
       "      <td>0.56</td>\n",
       "      <td>5486.27</td>\n",
       "      <td>100.56</td>\n",
       "      <td>6496.78</td>\n",
       "      <td>8787.61</td>\n",
       "      <td>0.0</td>\n",
       "    </tr>\n",
       "    <tr>\n",
       "      <th>2</th>\n",
       "      <td>2494</td>\n",
       "      <td>31</td>\n",
       "      <td>Male</td>\n",
       "      <td>0</td>\n",
       "      <td>salaried</td>\n",
       "      <td>146</td>\n",
       "      <td>2</td>\n",
       "      <td>41</td>\n",
       "      <td>3913.16</td>\n",
       "      <td>5815.29</td>\n",
       "      <td>4910.17</td>\n",
       "      <td>2815.94</td>\n",
       "      <td>0.61</td>\n",
       "      <td>0.61</td>\n",
       "      <td>6046.73</td>\n",
       "      <td>259.23</td>\n",
       "      <td>5006.28</td>\n",
       "      <td>5070.14</td>\n",
       "      <td>0.0</td>\n",
       "    </tr>\n",
       "    <tr>\n",
       "      <th>3</th>\n",
       "      <td>2629</td>\n",
       "      <td>90</td>\n",
       "      <td>Male</td>\n",
       "      <td>1</td>\n",
       "      <td>self_employed</td>\n",
       "      <td>1020</td>\n",
       "      <td>2</td>\n",
       "      <td>582</td>\n",
       "      <td>2291.91</td>\n",
       "      <td>2291.91</td>\n",
       "      <td>2084.54</td>\n",
       "      <td>1006.54</td>\n",
       "      <td>0.47</td>\n",
       "      <td>0.47</td>\n",
       "      <td>0.47</td>\n",
       "      <td>2143.33</td>\n",
       "      <td>2291.91</td>\n",
       "      <td>1669.79</td>\n",
       "      <td>1.0</td>\n",
       "    </tr>\n",
       "    <tr>\n",
       "      <th>4</th>\n",
       "      <td>1879</td>\n",
       "      <td>42</td>\n",
       "      <td>Male</td>\n",
       "      <td>2</td>\n",
       "      <td>self_employed</td>\n",
       "      <td>1494</td>\n",
       "      <td>3</td>\n",
       "      <td>388</td>\n",
       "      <td>927.72</td>\n",
       "      <td>1401.72</td>\n",
       "      <td>1643.31</td>\n",
       "      <td>1871.12</td>\n",
       "      <td>0.33</td>\n",
       "      <td>714.61</td>\n",
       "      <td>588.62</td>\n",
       "      <td>1538.06</td>\n",
       "      <td>1157.15</td>\n",
       "      <td>1677.16</td>\n",
       "      <td>1.0</td>\n",
       "    </tr>\n",
       "  </tbody>\n",
       "</table>\n",
       "</div>"
      ],
      "text/plain": [
       "   vintage  age gender  dependents     occupation    city  \\\n",
       "0     2401   66   Male           0  self_employed     187   \n",
       "1     2648   35   Male           0  self_employed  100000   \n",
       "2     2494   31   Male           0       salaried     146   \n",
       "3     2629   90   Male           1  self_employed    1020   \n",
       "4     1879   42   Male           2  self_employed    1494   \n",
       "\n",
       "  customer_nw_category branch_code  current_balance  \\\n",
       "0                    2         755          1458.71   \n",
       "1                    2        3214          5390.37   \n",
       "2                    2          41          3913.16   \n",
       "3                    2         582          2291.91   \n",
       "4                    3         388           927.72   \n",
       "\n",
       "   previous_month_end_balance  average_monthly_balance_prevQ  \\\n",
       "0                     1458.71                        1458.71   \n",
       "1                     8704.66                        7799.26   \n",
       "2                     5815.29                        4910.17   \n",
       "3                     2291.91                        2084.54   \n",
       "4                     1401.72                        1643.31   \n",
       "\n",
       "   average_monthly_balance_prevQ2  current_month_credit  \\\n",
       "0                         1449.07                  0.20   \n",
       "1                        12419.41                  0.56   \n",
       "2                         2815.94                  0.61   \n",
       "3                         1006.54                  0.47   \n",
       "4                         1871.12                  0.33   \n",
       "\n",
       "   previous_month_credit  current_month_debit  previous_month_debit  \\\n",
       "0                   0.20                 0.20                  0.20   \n",
       "1                   0.56              5486.27                100.56   \n",
       "2                   0.61              6046.73                259.23   \n",
       "3                   0.47                 0.47               2143.33   \n",
       "4                 714.61               588.62               1538.06   \n",
       "\n",
       "   current_month_balance  previous_month_balance churn  \n",
       "0                1458.71                 1458.71   0.0  \n",
       "1                6496.78                 8787.61   0.0  \n",
       "2                5006.28                 5070.14   0.0  \n",
       "3                2291.91                 1669.79   1.0  \n",
       "4                1157.15                 1677.16   1.0  "
      ]
     },
     "execution_count": 1,
     "metadata": {},
     "output_type": "execute_result"
    }
   ],
   "source": [
    "import pandas as pd\n",
    "df = pd.read_pickle(\"churn_prediction_v3.pkl\")\n",
    "df.head()"
   ]
  },
  {
   "cell_type": "code",
   "execution_count": 3,
   "metadata": {},
   "outputs": [
    {
     "data": {
      "text/html": [
       "<div>\n",
       "<style scoped>\n",
       "    .dataframe tbody tr th:only-of-type {\n",
       "        vertical-align: middle;\n",
       "    }\n",
       "\n",
       "    .dataframe tbody tr th {\n",
       "        vertical-align: top;\n",
       "    }\n",
       "\n",
       "    .dataframe thead th {\n",
       "        text-align: right;\n",
       "    }\n",
       "</style>\n",
       "<table border=\"1\" class=\"dataframe\">\n",
       "  <thead>\n",
       "    <tr style=\"text-align: right;\">\n",
       "      <th></th>\n",
       "      <th>vintage</th>\n",
       "      <th>age</th>\n",
       "      <th>dependents</th>\n",
       "      <th>current_balance</th>\n",
       "      <th>previous_month_end_balance</th>\n",
       "      <th>average_monthly_balance_prevQ</th>\n",
       "      <th>average_monthly_balance_prevQ2</th>\n",
       "      <th>current_month_credit</th>\n",
       "      <th>previous_month_credit</th>\n",
       "      <th>current_month_debit</th>\n",
       "      <th>previous_month_debit</th>\n",
       "      <th>current_month_balance</th>\n",
       "      <th>previous_month_balance</th>\n",
       "    </tr>\n",
       "  </thead>\n",
       "  <tbody>\n",
       "    <tr>\n",
       "      <th>count</th>\n",
       "      <td>15929.000000</td>\n",
       "      <td>15929.000000</td>\n",
       "      <td>15929.000000</td>\n",
       "      <td>1.592900e+04</td>\n",
       "      <td>1.592900e+04</td>\n",
       "      <td>1.592900e+04</td>\n",
       "      <td>1.592900e+04</td>\n",
       "      <td>1.592900e+04</td>\n",
       "      <td>1.592900e+04</td>\n",
       "      <td>1.592900e+04</td>\n",
       "      <td>1.592900e+04</td>\n",
       "      <td>1.592900e+04</td>\n",
       "      <td>1.592900e+04</td>\n",
       "    </tr>\n",
       "    <tr>\n",
       "      <th>mean</th>\n",
       "      <td>2392.421181</td>\n",
       "      <td>48.173206</td>\n",
       "      <td>0.373470</td>\n",
       "      <td>7.270714e+03</td>\n",
       "      <td>7.386311e+03</td>\n",
       "      <td>7.432824e+03</td>\n",
       "      <td>7.183143e+03</td>\n",
       "      <td>3.279398e+03</td>\n",
       "      <td>3.419695e+03</td>\n",
       "      <td>3.498418e+03</td>\n",
       "      <td>3.466232e+03</td>\n",
       "      <td>7.362582e+03</td>\n",
       "      <td>7.438765e+03</td>\n",
       "    </tr>\n",
       "    <tr>\n",
       "      <th>std</th>\n",
       "      <td>272.487032</td>\n",
       "      <td>17.865539</td>\n",
       "      <td>1.050676</td>\n",
       "      <td>5.051341e+04</td>\n",
       "      <td>4.944390e+04</td>\n",
       "      <td>4.893687e+04</td>\n",
       "      <td>5.528742e+04</td>\n",
       "      <td>3.124824e+04</td>\n",
       "      <td>3.541378e+04</td>\n",
       "      <td>2.825815e+04</td>\n",
       "      <td>2.772081e+04</td>\n",
       "      <td>4.933807e+04</td>\n",
       "      <td>4.973615e+04</td>\n",
       "    </tr>\n",
       "    <tr>\n",
       "      <th>min</th>\n",
       "      <td>438.000000</td>\n",
       "      <td>1.000000</td>\n",
       "      <td>0.000000</td>\n",
       "      <td>-5.503960e+03</td>\n",
       "      <td>-2.998640e+03</td>\n",
       "      <td>1.428690e+03</td>\n",
       "      <td>-1.650610e+04</td>\n",
       "      <td>1.000000e-02</td>\n",
       "      <td>1.000000e-02</td>\n",
       "      <td>1.000000e-02</td>\n",
       "      <td>1.000000e-02</td>\n",
       "      <td>-3.374180e+03</td>\n",
       "      <td>-3.060130e+03</td>\n",
       "    </tr>\n",
       "    <tr>\n",
       "      <th>25%</th>\n",
       "      <td>2260.000000</td>\n",
       "      <td>35.000000</td>\n",
       "      <td>0.000000</td>\n",
       "      <td>1.776370e+03</td>\n",
       "      <td>1.908420e+03</td>\n",
       "      <td>2.168030e+03</td>\n",
       "      <td>1.821850e+03</td>\n",
       "      <td>3.100000e-01</td>\n",
       "      <td>3.300000e-01</td>\n",
       "      <td>4.100000e-01</td>\n",
       "      <td>4.100000e-01</td>\n",
       "      <td>1.988660e+03</td>\n",
       "      <td>2.077040e+03</td>\n",
       "    </tr>\n",
       "    <tr>\n",
       "      <th>50%</th>\n",
       "      <td>2454.000000</td>\n",
       "      <td>46.000000</td>\n",
       "      <td>0.000000</td>\n",
       "      <td>3.276340e+03</td>\n",
       "      <td>3.380620e+03</td>\n",
       "      <td>3.520020e+03</td>\n",
       "      <td>3.373320e+03</td>\n",
       "      <td>6.100000e-01</td>\n",
       "      <td>6.400000e-01</td>\n",
       "      <td>9.450000e+01</td>\n",
       "      <td>1.124800e+02</td>\n",
       "      <td>3.445410e+03</td>\n",
       "      <td>3.450510e+03</td>\n",
       "    </tr>\n",
       "    <tr>\n",
       "      <th>75%</th>\n",
       "      <td>2593.000000</td>\n",
       "      <td>60.000000</td>\n",
       "      <td>0.000000</td>\n",
       "      <td>6.624210e+03</td>\n",
       "      <td>6.685810e+03</td>\n",
       "      <td>6.675250e+03</td>\n",
       "      <td>6.532500e+03</td>\n",
       "      <td>7.075900e+02</td>\n",
       "      <td>7.718700e+02</td>\n",
       "      <td>1.393640e+03</td>\n",
       "      <td>1.357730e+03</td>\n",
       "      <td>6.658490e+03</td>\n",
       "      <td>6.679810e+03</td>\n",
       "    </tr>\n",
       "    <tr>\n",
       "      <th>max</th>\n",
       "      <td>2776.000000</td>\n",
       "      <td>90.000000</td>\n",
       "      <td>52.000000</td>\n",
       "      <td>5.905904e+06</td>\n",
       "      <td>5.740439e+06</td>\n",
       "      <td>5.700290e+06</td>\n",
       "      <td>5.010170e+06</td>\n",
       "      <td>1.764286e+06</td>\n",
       "      <td>2.361808e+06</td>\n",
       "      <td>1.764286e+06</td>\n",
       "      <td>1.414168e+06</td>\n",
       "      <td>5.778185e+06</td>\n",
       "      <td>5.720144e+06</td>\n",
       "    </tr>\n",
       "  </tbody>\n",
       "</table>\n",
       "</div>"
      ],
      "text/plain": [
       "            vintage           age    dependents  current_balance  \\\n",
       "count  15929.000000  15929.000000  15929.000000     1.592900e+04   \n",
       "mean    2392.421181     48.173206      0.373470     7.270714e+03   \n",
       "std      272.487032     17.865539      1.050676     5.051341e+04   \n",
       "min      438.000000      1.000000      0.000000    -5.503960e+03   \n",
       "25%     2260.000000     35.000000      0.000000     1.776370e+03   \n",
       "50%     2454.000000     46.000000      0.000000     3.276340e+03   \n",
       "75%     2593.000000     60.000000      0.000000     6.624210e+03   \n",
       "max     2776.000000     90.000000     52.000000     5.905904e+06   \n",
       "\n",
       "       previous_month_end_balance  average_monthly_balance_prevQ  \\\n",
       "count                1.592900e+04                   1.592900e+04   \n",
       "mean                 7.386311e+03                   7.432824e+03   \n",
       "std                  4.944390e+04                   4.893687e+04   \n",
       "min                 -2.998640e+03                   1.428690e+03   \n",
       "25%                  1.908420e+03                   2.168030e+03   \n",
       "50%                  3.380620e+03                   3.520020e+03   \n",
       "75%                  6.685810e+03                   6.675250e+03   \n",
       "max                  5.740439e+06                   5.700290e+06   \n",
       "\n",
       "       average_monthly_balance_prevQ2  current_month_credit  \\\n",
       "count                    1.592900e+04          1.592900e+04   \n",
       "mean                     7.183143e+03          3.279398e+03   \n",
       "std                      5.528742e+04          3.124824e+04   \n",
       "min                     -1.650610e+04          1.000000e-02   \n",
       "25%                      1.821850e+03          3.100000e-01   \n",
       "50%                      3.373320e+03          6.100000e-01   \n",
       "75%                      6.532500e+03          7.075900e+02   \n",
       "max                      5.010170e+06          1.764286e+06   \n",
       "\n",
       "       previous_month_credit  current_month_debit  previous_month_debit  \\\n",
       "count           1.592900e+04         1.592900e+04          1.592900e+04   \n",
       "mean            3.419695e+03         3.498418e+03          3.466232e+03   \n",
       "std             3.541378e+04         2.825815e+04          2.772081e+04   \n",
       "min             1.000000e-02         1.000000e-02          1.000000e-02   \n",
       "25%             3.300000e-01         4.100000e-01          4.100000e-01   \n",
       "50%             6.400000e-01         9.450000e+01          1.124800e+02   \n",
       "75%             7.718700e+02         1.393640e+03          1.357730e+03   \n",
       "max             2.361808e+06         1.764286e+06          1.414168e+06   \n",
       "\n",
       "       current_month_balance  previous_month_balance  \n",
       "count           1.592900e+04            1.592900e+04  \n",
       "mean            7.362582e+03            7.438765e+03  \n",
       "std             4.933807e+04            4.973615e+04  \n",
       "min            -3.374180e+03           -3.060130e+03  \n",
       "25%             1.988660e+03            2.077040e+03  \n",
       "50%             3.445410e+03            3.450510e+03  \n",
       "75%             6.658490e+03            6.679810e+03  \n",
       "max             5.778185e+06            5.720144e+06  "
      ]
     },
     "execution_count": 3,
     "metadata": {},
     "output_type": "execute_result"
    }
   ],
   "source": [
    "df.describe()"
   ]
  },
  {
   "cell_type": "code",
   "execution_count": 4,
   "metadata": {},
   "outputs": [
    {
     "name": "stdout",
     "output_type": "stream",
     "text": [
      "<class 'pandas.core.frame.DataFrame'>\n",
      "RangeIndex: 15929 entries, 0 to 15928\n",
      "Data columns (total 19 columns):\n",
      " #   Column                          Non-Null Count  Dtype   \n",
      "---  ------                          --------------  -----   \n",
      " 0   vintage                         15929 non-null  int64   \n",
      " 1   age                             15929 non-null  int64   \n",
      " 2   gender                          15929 non-null  category\n",
      " 3   dependents                      15929 non-null  int64   \n",
      " 4   occupation                      15929 non-null  category\n",
      " 5   city                            15929 non-null  category\n",
      " 6   customer_nw_category            15929 non-null  category\n",
      " 7   branch_code                     15929 non-null  category\n",
      " 8   current_balance                 15929 non-null  float64 \n",
      " 9   previous_month_end_balance      15929 non-null  float64 \n",
      " 10  average_monthly_balance_prevQ   15929 non-null  float64 \n",
      " 11  average_monthly_balance_prevQ2  15929 non-null  float64 \n",
      " 12  current_month_credit            15929 non-null  float64 \n",
      " 13  previous_month_credit           15929 non-null  float64 \n",
      " 14  current_month_debit             15929 non-null  float64 \n",
      " 15  previous_month_debit            15929 non-null  float64 \n",
      " 16  current_month_balance           15929 non-null  float64 \n",
      " 17  previous_month_balance          15929 non-null  float64 \n",
      " 18  churn                           15929 non-null  category\n",
      "dtypes: category(6), float64(10), int64(3)\n",
      "memory usage: 1.7 MB\n"
     ]
    }
   ],
   "source": [
    "df.info()"
   ]
  },
  {
   "cell_type": "code",
   "execution_count": 14,
   "metadata": {},
   "outputs": [
    {
     "data": {
      "text/html": [
       "<div>\n",
       "<style scoped>\n",
       "    .dataframe tbody tr th:only-of-type {\n",
       "        vertical-align: middle;\n",
       "    }\n",
       "\n",
       "    .dataframe tbody tr th {\n",
       "        vertical-align: top;\n",
       "    }\n",
       "\n",
       "    .dataframe thead th {\n",
       "        text-align: right;\n",
       "    }\n",
       "</style>\n",
       "<table border=\"1\" class=\"dataframe\">\n",
       "  <thead>\n",
       "    <tr style=\"text-align: right;\">\n",
       "      <th></th>\n",
       "      <th>vintage</th>\n",
       "      <th>age</th>\n",
       "      <th>dependents</th>\n",
       "      <th>current_balance</th>\n",
       "      <th>previous_month_end_balance</th>\n",
       "      <th>average_monthly_balance_prevQ</th>\n",
       "      <th>average_monthly_balance_prevQ2</th>\n",
       "      <th>current_month_credit</th>\n",
       "      <th>previous_month_credit</th>\n",
       "      <th>current_month_debit</th>\n",
       "      <th>previous_month_debit</th>\n",
       "      <th>current_month_balance</th>\n",
       "      <th>previous_month_balance</th>\n",
       "    </tr>\n",
       "  </thead>\n",
       "  <tbody>\n",
       "    <tr>\n",
       "      <th>count</th>\n",
       "      <td>15929.00</td>\n",
       "      <td>15929.00</td>\n",
       "      <td>15929.00</td>\n",
       "      <td>15929.00</td>\n",
       "      <td>15929.00</td>\n",
       "      <td>15929.00</td>\n",
       "      <td>15929.00</td>\n",
       "      <td>15929.00</td>\n",
       "      <td>15929.00</td>\n",
       "      <td>15929.00</td>\n",
       "      <td>15929.00</td>\n",
       "      <td>15929.00</td>\n",
       "      <td>15929.00</td>\n",
       "    </tr>\n",
       "    <tr>\n",
       "      <th>mean</th>\n",
       "      <td>2392.42</td>\n",
       "      <td>48.17</td>\n",
       "      <td>0.37</td>\n",
       "      <td>7270.71</td>\n",
       "      <td>7386.31</td>\n",
       "      <td>7432.82</td>\n",
       "      <td>7183.14</td>\n",
       "      <td>3279.40</td>\n",
       "      <td>3419.69</td>\n",
       "      <td>3498.42</td>\n",
       "      <td>3466.23</td>\n",
       "      <td>7362.58</td>\n",
       "      <td>7438.76</td>\n",
       "    </tr>\n",
       "    <tr>\n",
       "      <th>std</th>\n",
       "      <td>272.49</td>\n",
       "      <td>17.87</td>\n",
       "      <td>1.05</td>\n",
       "      <td>50513.41</td>\n",
       "      <td>49443.90</td>\n",
       "      <td>48936.87</td>\n",
       "      <td>55287.42</td>\n",
       "      <td>31248.24</td>\n",
       "      <td>35413.78</td>\n",
       "      <td>28258.15</td>\n",
       "      <td>27720.81</td>\n",
       "      <td>49338.07</td>\n",
       "      <td>49736.15</td>\n",
       "    </tr>\n",
       "    <tr>\n",
       "      <th>min</th>\n",
       "      <td>438.00</td>\n",
       "      <td>1.00</td>\n",
       "      <td>0.00</td>\n",
       "      <td>-5503.96</td>\n",
       "      <td>-2998.64</td>\n",
       "      <td>1428.69</td>\n",
       "      <td>-16506.10</td>\n",
       "      <td>0.01</td>\n",
       "      <td>0.01</td>\n",
       "      <td>0.01</td>\n",
       "      <td>0.01</td>\n",
       "      <td>-3374.18</td>\n",
       "      <td>-3060.13</td>\n",
       "    </tr>\n",
       "    <tr>\n",
       "      <th>25%</th>\n",
       "      <td>2260.00</td>\n",
       "      <td>35.00</td>\n",
       "      <td>0.00</td>\n",
       "      <td>1776.37</td>\n",
       "      <td>1908.42</td>\n",
       "      <td>2168.03</td>\n",
       "      <td>1821.85</td>\n",
       "      <td>0.31</td>\n",
       "      <td>0.33</td>\n",
       "      <td>0.41</td>\n",
       "      <td>0.41</td>\n",
       "      <td>1988.66</td>\n",
       "      <td>2077.04</td>\n",
       "    </tr>\n",
       "    <tr>\n",
       "      <th>50%</th>\n",
       "      <td>2454.00</td>\n",
       "      <td>46.00</td>\n",
       "      <td>0.00</td>\n",
       "      <td>3276.34</td>\n",
       "      <td>3380.62</td>\n",
       "      <td>3520.02</td>\n",
       "      <td>3373.32</td>\n",
       "      <td>0.61</td>\n",
       "      <td>0.64</td>\n",
       "      <td>94.50</td>\n",
       "      <td>112.48</td>\n",
       "      <td>3445.41</td>\n",
       "      <td>3450.51</td>\n",
       "    </tr>\n",
       "    <tr>\n",
       "      <th>75%</th>\n",
       "      <td>2593.00</td>\n",
       "      <td>60.00</td>\n",
       "      <td>0.00</td>\n",
       "      <td>6624.21</td>\n",
       "      <td>6685.81</td>\n",
       "      <td>6675.25</td>\n",
       "      <td>6532.50</td>\n",
       "      <td>707.59</td>\n",
       "      <td>771.87</td>\n",
       "      <td>1393.64</td>\n",
       "      <td>1357.73</td>\n",
       "      <td>6658.49</td>\n",
       "      <td>6679.81</td>\n",
       "    </tr>\n",
       "    <tr>\n",
       "      <th>max</th>\n",
       "      <td>2776.00</td>\n",
       "      <td>90.00</td>\n",
       "      <td>52.00</td>\n",
       "      <td>5905904.03</td>\n",
       "      <td>5740438.63</td>\n",
       "      <td>5700289.57</td>\n",
       "      <td>5010170.10</td>\n",
       "      <td>1764285.97</td>\n",
       "      <td>2361808.29</td>\n",
       "      <td>1764285.97</td>\n",
       "      <td>1414168.06</td>\n",
       "      <td>5778184.77</td>\n",
       "      <td>5720144.50</td>\n",
       "    </tr>\n",
       "  </tbody>\n",
       "</table>\n",
       "</div>"
      ],
      "text/plain": [
       "        vintage       age  dependents  current_balance  \\\n",
       "count  15929.00  15929.00    15929.00         15929.00   \n",
       "mean    2392.42     48.17        0.37          7270.71   \n",
       "std      272.49     17.87        1.05         50513.41   \n",
       "min      438.00      1.00        0.00         -5503.96   \n",
       "25%     2260.00     35.00        0.00          1776.37   \n",
       "50%     2454.00     46.00        0.00          3276.34   \n",
       "75%     2593.00     60.00        0.00          6624.21   \n",
       "max     2776.00     90.00       52.00       5905904.03   \n",
       "\n",
       "       previous_month_end_balance  average_monthly_balance_prevQ  \\\n",
       "count                    15929.00                       15929.00   \n",
       "mean                      7386.31                        7432.82   \n",
       "std                      49443.90                       48936.87   \n",
       "min                      -2998.64                        1428.69   \n",
       "25%                       1908.42                        2168.03   \n",
       "50%                       3380.62                        3520.02   \n",
       "75%                       6685.81                        6675.25   \n",
       "max                    5740438.63                     5700289.57   \n",
       "\n",
       "       average_monthly_balance_prevQ2  current_month_credit  \\\n",
       "count                        15929.00              15929.00   \n",
       "mean                          7183.14               3279.40   \n",
       "std                          55287.42              31248.24   \n",
       "min                         -16506.10                  0.01   \n",
       "25%                           1821.85                  0.31   \n",
       "50%                           3373.32                  0.61   \n",
       "75%                           6532.50                707.59   \n",
       "max                        5010170.10            1764285.97   \n",
       "\n",
       "       previous_month_credit  current_month_debit  previous_month_debit  \\\n",
       "count               15929.00             15929.00              15929.00   \n",
       "mean                 3419.69              3498.42               3466.23   \n",
       "std                 35413.78             28258.15              27720.81   \n",
       "min                     0.01                 0.01                  0.01   \n",
       "25%                     0.33                 0.41                  0.41   \n",
       "50%                     0.64                94.50                112.48   \n",
       "75%                   771.87              1393.64               1357.73   \n",
       "max               2361808.29           1764285.97            1414168.06   \n",
       "\n",
       "       current_month_balance  previous_month_balance  \n",
       "count               15929.00                15929.00  \n",
       "mean                 7362.58                 7438.76  \n",
       "std                 49338.07                49736.15  \n",
       "min                 -3374.18                -3060.13  \n",
       "25%                  1988.66                 2077.04  \n",
       "50%                  3445.41                 3450.51  \n",
       "75%                  6658.49                 6679.81  \n",
       "max               5778184.77              5720144.50  "
      ]
     },
     "execution_count": 14,
     "metadata": {},
     "output_type": "execute_result"
    }
   ],
   "source": [
    "df.describe().round(2)"
   ]
  },
  {
   "cell_type": "code",
   "execution_count": 15,
   "metadata": {},
   "outputs": [
    {
     "data": {
      "text/html": [
       "<div>\n",
       "<style scoped>\n",
       "    .dataframe tbody tr th:only-of-type {\n",
       "        vertical-align: middle;\n",
       "    }\n",
       "\n",
       "    .dataframe tbody tr th {\n",
       "        vertical-align: top;\n",
       "    }\n",
       "\n",
       "    .dataframe thead th {\n",
       "        text-align: right;\n",
       "    }\n",
       "</style>\n",
       "<table border=\"1\" class=\"dataframe\">\n",
       "  <thead>\n",
       "    <tr style=\"text-align: right;\">\n",
       "      <th></th>\n",
       "      <th>count</th>\n",
       "      <th>mean</th>\n",
       "      <th>std</th>\n",
       "      <th>min</th>\n",
       "      <th>25%</th>\n",
       "      <th>50%</th>\n",
       "      <th>75%</th>\n",
       "      <th>max</th>\n",
       "    </tr>\n",
       "  </thead>\n",
       "  <tbody>\n",
       "    <tr>\n",
       "      <th>vintage</th>\n",
       "      <td>15929.0</td>\n",
       "      <td>2392.42</td>\n",
       "      <td>272.49</td>\n",
       "      <td>438.00</td>\n",
       "      <td>2260.00</td>\n",
       "      <td>2454.00</td>\n",
       "      <td>2593.00</td>\n",
       "      <td>2776.00</td>\n",
       "    </tr>\n",
       "    <tr>\n",
       "      <th>age</th>\n",
       "      <td>15929.0</td>\n",
       "      <td>48.17</td>\n",
       "      <td>17.87</td>\n",
       "      <td>1.00</td>\n",
       "      <td>35.00</td>\n",
       "      <td>46.00</td>\n",
       "      <td>60.00</td>\n",
       "      <td>90.00</td>\n",
       "    </tr>\n",
       "    <tr>\n",
       "      <th>dependents</th>\n",
       "      <td>15929.0</td>\n",
       "      <td>0.37</td>\n",
       "      <td>1.05</td>\n",
       "      <td>0.00</td>\n",
       "      <td>0.00</td>\n",
       "      <td>0.00</td>\n",
       "      <td>0.00</td>\n",
       "      <td>52.00</td>\n",
       "    </tr>\n",
       "    <tr>\n",
       "      <th>current_balance</th>\n",
       "      <td>15929.0</td>\n",
       "      <td>7270.71</td>\n",
       "      <td>50513.41</td>\n",
       "      <td>-5503.96</td>\n",
       "      <td>1776.37</td>\n",
       "      <td>3276.34</td>\n",
       "      <td>6624.21</td>\n",
       "      <td>5905904.03</td>\n",
       "    </tr>\n",
       "    <tr>\n",
       "      <th>previous_month_end_balance</th>\n",
       "      <td>15929.0</td>\n",
       "      <td>7386.31</td>\n",
       "      <td>49443.90</td>\n",
       "      <td>-2998.64</td>\n",
       "      <td>1908.42</td>\n",
       "      <td>3380.62</td>\n",
       "      <td>6685.81</td>\n",
       "      <td>5740438.63</td>\n",
       "    </tr>\n",
       "    <tr>\n",
       "      <th>average_monthly_balance_prevQ</th>\n",
       "      <td>15929.0</td>\n",
       "      <td>7432.82</td>\n",
       "      <td>48936.87</td>\n",
       "      <td>1428.69</td>\n",
       "      <td>2168.03</td>\n",
       "      <td>3520.02</td>\n",
       "      <td>6675.25</td>\n",
       "      <td>5700289.57</td>\n",
       "    </tr>\n",
       "    <tr>\n",
       "      <th>average_monthly_balance_prevQ2</th>\n",
       "      <td>15929.0</td>\n",
       "      <td>7183.14</td>\n",
       "      <td>55287.42</td>\n",
       "      <td>-16506.10</td>\n",
       "      <td>1821.85</td>\n",
       "      <td>3373.32</td>\n",
       "      <td>6532.50</td>\n",
       "      <td>5010170.10</td>\n",
       "    </tr>\n",
       "    <tr>\n",
       "      <th>current_month_credit</th>\n",
       "      <td>15929.0</td>\n",
       "      <td>3279.40</td>\n",
       "      <td>31248.24</td>\n",
       "      <td>0.01</td>\n",
       "      <td>0.31</td>\n",
       "      <td>0.61</td>\n",
       "      <td>707.59</td>\n",
       "      <td>1764285.97</td>\n",
       "    </tr>\n",
       "    <tr>\n",
       "      <th>previous_month_credit</th>\n",
       "      <td>15929.0</td>\n",
       "      <td>3419.69</td>\n",
       "      <td>35413.78</td>\n",
       "      <td>0.01</td>\n",
       "      <td>0.33</td>\n",
       "      <td>0.64</td>\n",
       "      <td>771.87</td>\n",
       "      <td>2361808.29</td>\n",
       "    </tr>\n",
       "    <tr>\n",
       "      <th>current_month_debit</th>\n",
       "      <td>15929.0</td>\n",
       "      <td>3498.42</td>\n",
       "      <td>28258.15</td>\n",
       "      <td>0.01</td>\n",
       "      <td>0.41</td>\n",
       "      <td>94.50</td>\n",
       "      <td>1393.64</td>\n",
       "      <td>1764285.97</td>\n",
       "    </tr>\n",
       "    <tr>\n",
       "      <th>previous_month_debit</th>\n",
       "      <td>15929.0</td>\n",
       "      <td>3466.23</td>\n",
       "      <td>27720.81</td>\n",
       "      <td>0.01</td>\n",
       "      <td>0.41</td>\n",
       "      <td>112.48</td>\n",
       "      <td>1357.73</td>\n",
       "      <td>1414168.06</td>\n",
       "    </tr>\n",
       "    <tr>\n",
       "      <th>current_month_balance</th>\n",
       "      <td>15929.0</td>\n",
       "      <td>7362.58</td>\n",
       "      <td>49338.07</td>\n",
       "      <td>-3374.18</td>\n",
       "      <td>1988.66</td>\n",
       "      <td>3445.41</td>\n",
       "      <td>6658.49</td>\n",
       "      <td>5778184.77</td>\n",
       "    </tr>\n",
       "    <tr>\n",
       "      <th>previous_month_balance</th>\n",
       "      <td>15929.0</td>\n",
       "      <td>7438.76</td>\n",
       "      <td>49736.15</td>\n",
       "      <td>-3060.13</td>\n",
       "      <td>2077.04</td>\n",
       "      <td>3450.51</td>\n",
       "      <td>6679.81</td>\n",
       "      <td>5720144.50</td>\n",
       "    </tr>\n",
       "  </tbody>\n",
       "</table>\n",
       "</div>"
      ],
      "text/plain": [
       "                                  count     mean       std       min      25%  \\\n",
       "vintage                         15929.0  2392.42    272.49    438.00  2260.00   \n",
       "age                             15929.0    48.17     17.87      1.00    35.00   \n",
       "dependents                      15929.0     0.37      1.05      0.00     0.00   \n",
       "current_balance                 15929.0  7270.71  50513.41  -5503.96  1776.37   \n",
       "previous_month_end_balance      15929.0  7386.31  49443.90  -2998.64  1908.42   \n",
       "average_monthly_balance_prevQ   15929.0  7432.82  48936.87   1428.69  2168.03   \n",
       "average_monthly_balance_prevQ2  15929.0  7183.14  55287.42 -16506.10  1821.85   \n",
       "current_month_credit            15929.0  3279.40  31248.24      0.01     0.31   \n",
       "previous_month_credit           15929.0  3419.69  35413.78      0.01     0.33   \n",
       "current_month_debit             15929.0  3498.42  28258.15      0.01     0.41   \n",
       "previous_month_debit            15929.0  3466.23  27720.81      0.01     0.41   \n",
       "current_month_balance           15929.0  7362.58  49338.07  -3374.18  1988.66   \n",
       "previous_month_balance          15929.0  7438.76  49736.15  -3060.13  2077.04   \n",
       "\n",
       "                                    50%      75%         max  \n",
       "vintage                         2454.00  2593.00     2776.00  \n",
       "age                               46.00    60.00       90.00  \n",
       "dependents                         0.00     0.00       52.00  \n",
       "current_balance                 3276.34  6624.21  5905904.03  \n",
       "previous_month_end_balance      3380.62  6685.81  5740438.63  \n",
       "average_monthly_balance_prevQ   3520.02  6675.25  5700289.57  \n",
       "average_monthly_balance_prevQ2  3373.32  6532.50  5010170.10  \n",
       "current_month_credit               0.61   707.59  1764285.97  \n",
       "previous_month_credit              0.64   771.87  2361808.29  \n",
       "current_month_debit               94.50  1393.64  1764285.97  \n",
       "previous_month_debit             112.48  1357.73  1414168.06  \n",
       "current_month_balance           3445.41  6658.49  5778184.77  \n",
       "previous_month_balance          3450.51  6679.81  5720144.50  "
      ]
     },
     "execution_count": 15,
     "metadata": {},
     "output_type": "execute_result"
    }
   ],
   "source": [
    "df.describe().round(2).T"
   ]
  },
  {
   "cell_type": "code",
   "execution_count": 20,
   "metadata": {},
   "outputs": [
    {
     "data": {
      "text/html": [
       "<div>\n",
       "<style scoped>\n",
       "    .dataframe tbody tr th:only-of-type {\n",
       "        vertical-align: middle;\n",
       "    }\n",
       "\n",
       "    .dataframe tbody tr th {\n",
       "        vertical-align: top;\n",
       "    }\n",
       "\n",
       "    .dataframe thead th {\n",
       "        text-align: right;\n",
       "    }\n",
       "</style>\n",
       "<table border=\"1\" class=\"dataframe\">\n",
       "  <thead>\n",
       "    <tr style=\"text-align: right;\">\n",
       "      <th></th>\n",
       "      <th>occupation</th>\n",
       "      <th>last_transaction</th>\n",
       "    </tr>\n",
       "  </thead>\n",
       "  <tbody>\n",
       "    <tr>\n",
       "      <th>count</th>\n",
       "      <td>15883</td>\n",
       "      <td>15929</td>\n",
       "    </tr>\n",
       "    <tr>\n",
       "      <th>unique</th>\n",
       "      <td>5</td>\n",
       "      <td>348</td>\n",
       "    </tr>\n",
       "    <tr>\n",
       "      <th>top</th>\n",
       "      <td>self_employed</td>\n",
       "      <td>NaT</td>\n",
       "    </tr>\n",
       "    <tr>\n",
       "      <th>freq</th>\n",
       "      <td>9814</td>\n",
       "      <td>1811</td>\n",
       "    </tr>\n",
       "  </tbody>\n",
       "</table>\n",
       "</div>"
      ],
      "text/plain": [
       "           occupation last_transaction\n",
       "count           15883            15929\n",
       "unique              5              348\n",
       "top     self_employed              NaT\n",
       "freq             9814             1811"
      ]
     },
     "execution_count": 20,
     "metadata": {},
     "output_type": "execute_result"
    }
   ],
   "source": [
    "df1.describe(include=\"O\").round(2)  # for CSV"
   ]
  },
  {
   "cell_type": "code",
   "execution_count": 17,
   "metadata": {},
   "outputs": [
    {
     "data": {
      "text/html": [
       "<div>\n",
       "<style scoped>\n",
       "    .dataframe tbody tr th:only-of-type {\n",
       "        vertical-align: middle;\n",
       "    }\n",
       "\n",
       "    .dataframe tbody tr th {\n",
       "        vertical-align: top;\n",
       "    }\n",
       "\n",
       "    .dataframe thead th {\n",
       "        text-align: right;\n",
       "    }\n",
       "</style>\n",
       "<table border=\"1\" class=\"dataframe\">\n",
       "  <thead>\n",
       "    <tr style=\"text-align: right;\">\n",
       "      <th></th>\n",
       "      <th>gender</th>\n",
       "      <th>occupation</th>\n",
       "      <th>city</th>\n",
       "      <th>customer_nw_category</th>\n",
       "      <th>branch_code</th>\n",
       "      <th>churn</th>\n",
       "    </tr>\n",
       "  </thead>\n",
       "  <tbody>\n",
       "    <tr>\n",
       "      <th>count</th>\n",
       "      <td>15929</td>\n",
       "      <td>15929</td>\n",
       "      <td>15929</td>\n",
       "      <td>15929</td>\n",
       "      <td>15929</td>\n",
       "      <td>15929.0</td>\n",
       "    </tr>\n",
       "    <tr>\n",
       "      <th>unique</th>\n",
       "      <td>2</td>\n",
       "      <td>5</td>\n",
       "      <td>1288</td>\n",
       "      <td>3</td>\n",
       "      <td>2806</td>\n",
       "      <td>2.0</td>\n",
       "    </tr>\n",
       "    <tr>\n",
       "      <th>top</th>\n",
       "      <td>Male</td>\n",
       "      <td>self_employed</td>\n",
       "      <td>1020</td>\n",
       "      <td>2</td>\n",
       "      <td>6</td>\n",
       "      <td>0.0</td>\n",
       "    </tr>\n",
       "    <tr>\n",
       "      <th>freq</th>\n",
       "      <td>9595</td>\n",
       "      <td>9860</td>\n",
       "      <td>1949</td>\n",
       "      <td>8163</td>\n",
       "      <td>75</td>\n",
       "      <td>12942.0</td>\n",
       "    </tr>\n",
       "  </tbody>\n",
       "</table>\n",
       "</div>"
      ],
      "text/plain": [
       "       gender     occupation   city  customer_nw_category  branch_code  \\\n",
       "count   15929          15929  15929                 15929        15929   \n",
       "unique      2              5   1288                     3         2806   \n",
       "top      Male  self_employed   1020                     2            6   \n",
       "freq     9595           9860   1949                  8163           75   \n",
       "\n",
       "          churn  \n",
       "count   15929.0  \n",
       "unique      2.0  \n",
       "top         0.0  \n",
       "freq    12942.0  "
      ]
     },
     "execution_count": 17,
     "metadata": {},
     "output_type": "execute_result"
    }
   ],
   "source": [
    "df.describe(include=\"category\").round(2)"
   ]
  },
  {
   "cell_type": "code",
   "execution_count": 23,
   "metadata": {},
   "outputs": [
    {
     "data": {
      "text/plain": [
       "(48.17320610207797, 17.86553928645183)"
      ]
     },
     "execution_count": 23,
     "metadata": {},
     "output_type": "execute_result"
    }
   ],
   "source": [
    "df[\"age\"].mean(), "
   ]
  },
  {
   "cell_type": "code",
   "execution_count": 28,
   "metadata": {},
   "outputs": [
    {
     "data": {
      "text/plain": [
       "17.86553928645183"
      ]
     },
     "execution_count": 28,
     "metadata": {},
     "output_type": "execute_result"
    }
   ],
   "source": [
    "df[\"age\"].std()"
   ]
  },
  {
   "cell_type": "code",
   "execution_count": 27,
   "metadata": {},
   "outputs": [
    {
     "data": {
      "text/plain": [
       "(48.17320610207797, 17.864978491057)"
      ]
     },
     "execution_count": 27,
     "metadata": {},
     "output_type": "execute_result"
    }
   ],
   "source": [
    "import numpy as np\n",
    "np.mean(df[\"age\"]), np.std(df[\"age\"])"
   ]
  },
  {
   "cell_type": "code",
   "execution_count": 29,
   "metadata": {},
   "outputs": [
    {
     "data": {
      "text/plain": [
       "17.86553928645183"
      ]
     },
     "execution_count": 29,
     "metadata": {},
     "output_type": "execute_result"
    }
   ],
   "source": [
    "np.std(df[\"age\"], ddof=1)"
   ]
  },
  {
   "cell_type": "code",
   "execution_count": 35,
   "metadata": {},
   "outputs": [
    {
     "data": {
      "text/plain": [
       "48.17320610207797"
      ]
     },
     "execution_count": 35,
     "metadata": {},
     "output_type": "execute_result"
    }
   ],
   "source": [
    "df[\"age\"].mean()"
   ]
  },
  {
   "cell_type": "code",
   "execution_count": 38,
   "metadata": {},
   "outputs": [
    {
     "data": {
      "text/plain": [
       "46.47"
      ]
     },
     "execution_count": 38,
     "metadata": {},
     "output_type": "execute_result"
    }
   ],
   "source": [
    "age_sample = df[\"age\"].sample(200)\n",
    "age_sample.mean()"
   ]
  },
  {
   "cell_type": "code",
   "execution_count": 39,
   "metadata": {},
   "outputs": [
    {
     "data": {
      "text/plain": [
       "1.2632843979004762"
      ]
     },
     "execution_count": 39,
     "metadata": {},
     "output_type": "execute_result"
    }
   ],
   "source": [
    "np.random.seed(42)\n",
    "n = 200\n",
    "age_sample = df[\"age\"].sample(n)\n",
    "SE = df[\"age\"].std()/np.sqrt(n)\n",
    "SE"
   ]
  },
  {
   "cell_type": "code",
   "execution_count": 40,
   "metadata": {},
   "outputs": [],
   "source": [
    "from scipy.stats import norm"
   ]
  },
  {
   "cell_type": "code",
   "execution_count": 43,
   "metadata": {},
   "outputs": [
    {
     "data": {
      "text/plain": [
       "-1.959963984540054"
      ]
     },
     "execution_count": 43,
     "metadata": {},
     "output_type": "execute_result"
    }
   ],
   "source": [
    "confidence_level = 0.95\n",
    "alpha = 1-confidence_level\n",
    "\n",
    "norm.ppf(alpha/2)"
   ]
  },
  {
   "cell_type": "code",
   "execution_count": null,
   "metadata": {},
   "outputs": [],
   "source": []
  },
  {
   "cell_type": "code",
   "execution_count": null,
   "metadata": {},
   "outputs": [],
   "source": []
  },
  {
   "cell_type": "code",
   "execution_count": null,
   "metadata": {},
   "outputs": [],
   "source": []
  },
  {
   "cell_type": "code",
   "execution_count": null,
   "metadata": {},
   "outputs": [],
   "source": []
  },
  {
   "cell_type": "code",
   "execution_count": null,
   "metadata": {},
   "outputs": [],
   "source": []
  },
  {
   "cell_type": "code",
   "execution_count": null,
   "metadata": {},
   "outputs": [],
   "source": []
  },
  {
   "cell_type": "markdown",
   "metadata": {},
   "source": [
    "# Questions on Normal Distribution"
   ]
  },
  {
   "cell_type": "markdown",
   "metadata": {},
   "source": [
    "#### Q. At a bank, the processing time for personal loan applications follows a normal distribution with a mean of 10 days and a standard deviation of 2 days. Calculate the probability that a randomly selected loan application takes less than 8 days to process."
   ]
  },
  {
   "cell_type": "code",
   "execution_count": 11,
   "metadata": {},
   "outputs": [
    {
     "data": {
      "text/plain": [
       "0.15865525393145707"
      ]
     },
     "execution_count": 11,
     "metadata": {},
     "output_type": "execute_result"
    }
   ],
   "source": [
    "# P(X<=8) = ???\n",
    "\n",
    "norm.cdf(8, loc=10, scale=2)"
   ]
  },
  {
   "cell_type": "code",
   "execution_count": null,
   "metadata": {},
   "outputs": [],
   "source": []
  },
  {
   "cell_type": "markdown",
   "metadata": {},
   "source": [
    "#### A credit card company is concerned about fraudulent transactions. The transaction amounts for legitimate transactions follow a normal distribution with a mean of USD 100 and a standard deviation of USD 20. Calculate the transaction amount above which only 5% of legitimate transactions occur."
   ]
  },
  {
   "cell_type": "code",
   "execution_count": 13,
   "metadata": {},
   "outputs": [
    {
     "data": {
      "text/plain": [
       "132.89707253902947"
      ]
     },
     "execution_count": 13,
     "metadata": {},
     "output_type": "execute_result"
    }
   ],
   "source": [
    "# we are looking for the X value where P(X>0.05) ??\n",
    "norm.isf(0.05, loc=100, scale=20)"
   ]
  },
  {
   "cell_type": "code",
   "execution_count": 14,
   "metadata": {},
   "outputs": [
    {
     "data": {
      "text/plain": [
       "132.89707253902944"
      ]
     },
     "execution_count": 14,
     "metadata": {},
     "output_type": "execute_result"
    }
   ],
   "source": [
    "# we are looking for the X value where P(X <= 0.95) ??\n",
    "norm.ppf(0.95, loc=100, scale=20)"
   ]
  },
  {
   "cell_type": "markdown",
   "metadata": {},
   "source": [
    "#### A bank is analyzing the monthly credit card bill amounts of its customers. The bill amounts follow a normal distribution with a mean of USD 500 and a standard deviation of USD 100. Calculate the probability that a randomly selected customer has a bill amount exceeding $700."
   ]
  },
  {
   "cell_type": "code",
   "execution_count": 16,
   "metadata": {},
   "outputs": [
    {
     "data": {
      "text/plain": [
       "0.022750131948179195"
      ]
     },
     "execution_count": 16,
     "metadata": {},
     "output_type": "execute_result"
    }
   ],
   "source": [
    "# X = bill amount\n",
    "# P(X>700) = ???\n",
    "\n",
    "norm.sf(700, loc=500, scale=100)"
   ]
  },
  {
   "cell_type": "code",
   "execution_count": null,
   "metadata": {},
   "outputs": [],
   "source": []
  },
  {
   "cell_type": "markdown",
   "metadata": {},
   "source": [
    "#### A bank is issuing credit cards with a credit limit that follows a normal distribution with a mean of USD 10,000 and a standard deviation of USD 2,000. What is the credit limit below which only 10% of credit cards are issued?"
   ]
  },
  {
   "cell_type": "code",
   "execution_count": 18,
   "metadata": {},
   "outputs": [
    {
     "data": {
      "text/plain": [
       "7437.0"
      ]
     },
     "execution_count": 18,
     "metadata": {},
     "output_type": "execute_result"
    }
   ],
   "source": [
    "# X = credit limit\n",
    "# we are looking for the X value where P(X <= 0.1) ??\n",
    "norm.ppf(0.1, 10000, 2000).round()"
   ]
  },
  {
   "cell_type": "code",
   "execution_count": null,
   "metadata": {},
   "outputs": [],
   "source": []
  },
  {
   "cell_type": "markdown",
   "metadata": {},
   "source": [
    "#### A bank wants to set a minimum balance requirement for a specific account type. The account balances follow a normal distribution with a mean of USD 2000 and a standard deviation of USD 500. What is the minimum balance threshold below which 25% of account holders fall?"
   ]
  },
  {
   "cell_type": "code",
   "execution_count": 19,
   "metadata": {},
   "outputs": [
    {
     "data": {
      "text/plain": [
       "1663.0"
      ]
     },
     "execution_count": 19,
     "metadata": {},
     "output_type": "execute_result"
    }
   ],
   "source": [
    "# X = minimum bal\n",
    "# we are looking for the X value where P(X <= 25) ??\n",
    "\n",
    "norm.ppf(0.25, 2000, 500).round()"
   ]
  },
  {
   "cell_type": "markdown",
   "metadata": {},
   "source": [
    "# HW Problems on Normal Distribution"
   ]
  },
  {
   "cell_type": "raw",
   "metadata": {},
   "source": [
    "A bank offers a special interest rate on fixed deposits to customers who have an account balance exceeding a certain threshold. The account balance of customers follows a normal distribution with a mean of $10,000 and a standard deviation of $2,000. Calculate the proportion of customers who are eligible for the special interest rate if the threshold is set at $12,000."
   ]
  },
  {
   "cell_type": "code",
   "execution_count": 1,
   "metadata": {},
   "outputs": [
    {
     "data": {
      "text/plain": [
       "0.15865525393145707"
      ]
     },
     "execution_count": 1,
     "metadata": {},
     "output_type": "execute_result"
    }
   ],
   "source": [
    "import numpy as np\n",
    "from scipy.stats import norm\n",
    "\n",
    "norm.sf(12000, loc=10000, scale=2000)"
   ]
  },
  {
   "cell_type": "code",
   "execution_count": null,
   "metadata": {},
   "outputs": [],
   "source": []
  },
  {
   "cell_type": "raw",
   "metadata": {},
   "source": [
    "An insurance company has a policy that offers a bonus to policyholders whose claim amounts are within a certain range. The claim amounts follow a normal distribution with a mean of $5,000 and a standard deviation of $1,000. Calculate the probability that a randomly selected claim amount falls within the range of $4,000 to $6,000."
   ]
  },
  {
   "cell_type": "code",
   "execution_count": 3,
   "metadata": {},
   "outputs": [
    {
     "data": {
      "text/plain": [
       "0.6826894921370859"
      ]
     },
     "execution_count": 3,
     "metadata": {},
     "output_type": "execute_result"
    }
   ],
   "source": [
    "norm.cdf(6000, loc=5000, scale=1000) - norm.cdf(4000, loc=5000, scale=1000)"
   ]
  },
  {
   "cell_type": "code",
   "execution_count": null,
   "metadata": {},
   "outputs": [],
   "source": []
  },
  {
   "cell_type": "raw",
   "metadata": {},
   "source": [
    "A retail store measures the time it takes for customers to complete a purchase transaction. The transaction time follows a normal distribution with a mean of 3 minutes and a standard deviation of 0.5 minutes. What is the probability that a randomly selected customer completes the transaction in less than 2 minutes?"
   ]
  },
  {
   "cell_type": "code",
   "execution_count": 4,
   "metadata": {},
   "outputs": [
    {
     "data": {
      "text/plain": [
       "0.022750131948179195"
      ]
     },
     "execution_count": 4,
     "metadata": {},
     "output_type": "execute_result"
    }
   ],
   "source": [
    "norm.cdf(2, loc=3, scale=0.5)"
   ]
  },
  {
   "cell_type": "code",
   "execution_count": null,
   "metadata": {},
   "outputs": [],
   "source": []
  },
  {
   "cell_type": "raw",
   "metadata": {},
   "source": [
    "An e-commerce platform analyzes the time taken for customers to complete the checkout process. The checkout time follows a normal distribution with a mean of 5 seconds and a standard deviation of 1 second. What is the 90th percentile of the checkout time distribution?"
   ]
  },
  {
   "cell_type": "code",
   "execution_count": 5,
   "metadata": {},
   "outputs": [
    {
     "data": {
      "text/plain": [
       "6.2815515655446"
      ]
     },
     "execution_count": 5,
     "metadata": {},
     "output_type": "execute_result"
    }
   ],
   "source": [
    "norm.ppf(0.90, loc=5, scale=1)"
   ]
  },
  {
   "cell_type": "code",
   "execution_count": null,
   "metadata": {},
   "outputs": [],
   "source": []
  },
  {
   "cell_type": "raw",
   "metadata": {},
   "source": [
    "A bank analyzes the credit scores of loan applicants. The credit scores follow a normal distribution with a mean of 700 and a standard deviation of 50. What is the credit score cutoff below which only 10% of the applicants fall?"
   ]
  },
  {
   "cell_type": "code",
   "execution_count": 7,
   "metadata": {},
   "outputs": [
    {
     "data": {
      "text/plain": [
       "636.0"
      ]
     },
     "execution_count": 7,
     "metadata": {},
     "output_type": "execute_result"
    }
   ],
   "source": [
    "norm.ppf(0.1, loc=700, scale=50).round()"
   ]
  },
  {
   "cell_type": "code",
   "execution_count": null,
   "metadata": {},
   "outputs": [],
   "source": []
  },
  {
   "cell_type": "code",
   "execution_count": null,
   "metadata": {},
   "outputs": [],
   "source": []
  },
  {
   "cell_type": "code",
   "execution_count": null,
   "metadata": {},
   "outputs": [],
   "source": []
  },
  {
   "cell_type": "code",
   "execution_count": null,
   "metadata": {},
   "outputs": [],
   "source": []
  }
 ],
 "metadata": {
  "colab": {
   "collapsed_sections": [],
   "name": "3. Variable Identification.ipynb",
   "version": ""
  },
  "kernelspec": {
   "display_name": "Python 3 (ipykernel)",
   "language": "python",
   "name": "python3"
  },
  "language_info": {
   "codemirror_mode": {
    "name": "ipython",
    "version": 3
   },
   "file_extension": ".py",
   "mimetype": "text/x-python",
   "name": "python",
   "nbconvert_exporter": "python",
   "pygments_lexer": "ipython3",
   "version": "3.11.5"
  }
 },
 "nbformat": 4,
 "nbformat_minor": 4
}
