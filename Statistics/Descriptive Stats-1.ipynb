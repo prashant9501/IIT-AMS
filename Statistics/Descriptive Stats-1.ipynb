{
 "cells": [
  {
   "cell_type": "markdown",
   "id": "6aa65dc2",
   "metadata": {},
   "source": [
    "### 1. Types of Variables\n",
    "\n",
    "#### Categorical Variables\n",
    "\n",
    "**Nominal Variables**\n",
    "- **Definition**: Nominal variables, also known as categorical variables, are used for labeling or naming attributes without any quantitative value. The categories do not have a logical order or ranking.\n",
    "- **Examples**: \n",
    "  - **Gender**: Male, Female, Non-binary\n",
    "  - **Marital Status**: Single, Married, Divorced, Widowed\n",
    "  - **Country**: USA, Canada, Mexico, Brazil\n",
    "  - **Favorite Color**: Red, Blue, Green, Yellow\n",
    "\n",
    "**Ordinal Variables**\n",
    "- **Definition**: Ordinal variables are categorical variables with a clear, meaningful order or ranking among the categories. However, the differences between the ranks are not measurable or consistent.\n",
    "- **Examples**: \n",
    "  - **Movie Ratings**: Poor, Fair, Good, Very Good, Excellent\n",
    "  - **Education Level**: High School, Bachelor’s, Master’s, PhD\n",
    "  - **Socioeconomic Status**: Low, Middle, High\n",
    "  - **Pain Severity**: None, Mild, Moderate, Severe\n",
    "\n",
    "#### Numerical Variables\n",
    "\n",
    "Numerical variables can be divided into discrete and continuous variables, and further into interval and ratio scales.\n",
    "\n",
    "**Discrete Variables**\n",
    "- **Definition**: Discrete variables represent countable quantities and take on a finite or countably infinite set of values. Each value is distinct and separate.\n",
    "- **Examples**:\n",
    "  - **Number of Children**: 0, 1, 2, 3\n",
    "  - **Number of Cars in a Parking Lot**: 5, 10, 15\n",
    "  - **Number of Students in a Class**: 20, 25, 30\n",
    "\n",
    "**Continuous Variables**\n",
    "- **Definition**: Continuous variables represent measurable quantities and can take on infinitely many values within a given range. The values can be any number, including fractions and decimals.\n",
    "- **Examples**:\n",
    "  - **Height**: 160.5 cm, 172.3 cm\n",
    "  - **Weight**: 65.2 kg, 70.5 kg\n",
    "  - **Temperature**: 36.5°C, 98.6°F\n",
    "\n",
    "**Interval Scale**\n",
    "- **Definition**: Interval variables are continuous variables where the differences between values are meaningful. However, there is no true zero point, and ratios are not meaningful.\n",
    "- **Examples**:\n",
    "  - **Temperature in Celsius or Fahrenheit**: The difference between 20°C and 30°C is the same as between 30°C and 40°C, but 0°C is not the absence of temperature.\n",
    "  - **Calendar Years**: The difference between the years 2000 and 2010 is the same as between 1990 and 2000, but there is no absolute zero year.\n",
    "\n",
    "**Ratio Scale**\n",
    "- **Definition**: Ratio variables are continuous variables with a true zero point, meaning zero indicates the absence of the quantity. Both differences and ratios between values are meaningful.\n",
    "- **Examples**:\n",
    "  - **Height**: A height of 0 cm means no height. Ratios like \"twice as tall\" are meaningful.\n",
    "  - **Weight**: A weight of 0 kg means no weight. Ratios like \"half as heavy\" are meaningful.\n",
    "  - **Income**: An income of $0 means no income. Comparing incomes as ratios is meaningful.\n",
    "\n",
    "### Summary Table\n",
    "\n",
    "| Type         | Definition                                                                 | Examples                                          |\n",
    "|--------------|-----------------------------------------------------------------------------|---------------------------------------------------|\n",
    "| Nominal      | Categories without a logical order or ranking                              | Gender, Marital Status, Country, Favorite Color   |\n",
    "| Ordinal      | Categories with a meaningful order or ranking                              | Movie Ratings, Education Level, Socio-economic Status, Pain Severity |\n",
    "| Discrete     | Countable quantities with distinct and separate values                     | Number of Children, Number of Cars, Number of Students |\n",
    "| Continuous   | Measurable quantities with infinitely many possible values                 | Height, Weight, Temperature                       |\n",
    "| Interval Scale    | Continuous variables with meaningful differences but no true zero point    | Temperature (Celsius/Fahrenheit), Calendar Years  |\n",
    "| Ratio Scale        | Continuous variables with meaningful differences and a true zero point     | Height, Weight, Income                            |\n",
    "\n",
    "This detailed breakdown provides a clear understanding of different types of variables, which is essential for accurate data analysis and interpretation in data science."
   ]
  },
  {
   "cell_type": "code",
   "execution_count": null,
   "id": "1b1823cd",
   "metadata": {},
   "outputs": [],
   "source": []
  },
  {
   "cell_type": "code",
   "execution_count": null,
   "id": "1d5f8aa5",
   "metadata": {},
   "outputs": [],
   "source": []
  },
  {
   "cell_type": "markdown",
   "id": "883e3541",
   "metadata": {},
   "source": [
    "# Measures of central tendency"
   ]
  },
  {
   "cell_type": "markdown",
   "id": "8750bce3",
   "metadata": {},
   "source": [
    "These measures describe the center or typical value of a dataset and are fundamental in statistics. We'll cover:\n",
    "\n",
    "1. **Mean**\n",
    "2. **Median**\n",
    "3. **Mode**\n",
    "\n",
    "For each measure, I'll provide definitions, formulations, and calculation examples.\n",
    "\n",
    "### 1. Mean\n",
    "\n",
    "#### Definition\n",
    "The mean, often referred to as the average, is the sum of all data points divided by the number of data points. It provides a central value of the dataset.\n",
    "\n",
    "#### Formulation\n",
    "- **Population Mean ($\\mu$)**: Used when considering the entire population.\n",
    "  $$\n",
    "  \\mu = \\frac{1}{N} \\sum_{i=1}^{N} x_i\n",
    "  $$\n",
    "  Where $N$ is the total number of observations and $x_i$ are the individual data points.\n",
    "\n",
    "- **Sample Mean ($\\bar{x}$)**: Used when considering a sample from the population.\n",
    "  $$\n",
    "  \\bar{x} = \\frac{1}{n} \\sum_{i=1}^{n} x_i\n",
    "  $$\n",
    "  Where $n$ is the total number of observations in the sample.\n",
    "\n",
    "#### Calculation Examples\n",
    "- **Example 1 (Population Mean)**:\n",
    "  Dataset: $2, 4, 6, 8, 10$\n",
    "  $$\n",
    "  \\mu = \\frac{2 + 4 + 6 + 8 + 10}{5} = \\frac{30}{5} = 6\n",
    "  $$\n",
    "\n",
    "- **Example 2 (Sample Mean)**:\n",
    "  Sample Dataset: $3, 7, 5$\n",
    "  $$\n",
    "  \\bar{x} = \\frac{3 + 7 + 5}{3} = \\frac{15}{3} = 5\n",
    "  $$\n",
    "\n",
    "### 2. Median\n",
    "\n",
    "#### Definition\n",
    "The median is the middle value of a dataset when it is ordered in ascending or descending order. If the dataset has an even number of observations, the median is the average of the two middle values.\n",
    "\n",
    "#### Formulation\n",
    "- For an **odd** number of observations:\n",
    "  $$\n",
    "  \\text{Median} = x_{\\left(\\frac{n+1}{2}\\right)}\n",
    "  $$\n",
    "\n",
    "- For an **even** number of observations:\n",
    "  $$\n",
    "  \\text{Median} = \\frac{x_{\\left(\\frac{n}{2}\\right)} + x_{\\left(\\frac{n}{2} + 1\\right)}}{2}\n",
    "  $$\n",
    "\n",
    "#### Calculation Examples\n",
    "- **Example 1 (Odd Number of Observations)**:\n",
    "  Dataset: $3, 1, 4, 2, 5$ (sorted: $1, 2, 3, 4, 5$)\n",
    "  $$\n",
    "  \\text{Median} = 3 \\quad (\\text{3rd observation})\n",
    "  $$\n",
    "\n",
    "- **Example 2 (Even Number of Observations)**:\n",
    "  Dataset: $7, 1, 3, 5$ (sorted: $1, 3, 5, 7$)\n",
    "  $$\n",
    "  \\text{Median} = \\frac{3 + 5}{2} = 4\n",
    "  $$\n",
    "\n",
    "### 3. Mode\n",
    "\n",
    "#### Definition\n",
    "The mode is the value that appears most frequently in a dataset. A dataset may have one mode, more than one mode, or no mode at all.\n",
    "\n",
    "#### Calculation Examples\n",
    "- **Example 1 (Single Mode)**:\n",
    "  Dataset: $2, 3, 4, 4, 5$\n",
    "  $$\n",
    "  \\text{Mode} = 4\n",
    "  $$\n",
    "\n",
    "- **Example 2 (Multiple Modes)**:\n",
    "  Dataset: $1, 1, 2, 3, 3$\n",
    "  $$\n",
    "  \\text{Mode} = 1 \\text{ and } 3\n",
    "  $$\n",
    "\n",
    "- **Example 3 (No Mode)**:\n",
    "  Dataset: $1, 2, 3, 4$\n",
    "  $$\n",
    "  \\text{Mode} = \\text{None}\n",
    "  $$\n",
    "\n",
    "### Summary\n",
    "\n",
    "| Measure | Definition | Formula | Calculation Example |\n",
    "|---------|------------|---------|---------------------|\n",
    "| **Mean** | Average of all data points | $\\mu = \\frac{1}{N} \\sum_{i=1}^{N} x_i$ (Population) $\\bar{x} = \\frac{1}{n} \\sum_{i=1}^{n} x_i$ (Sample) | Dataset: $2, 4, 6, 8, 10$; Mean: $6$ |\n",
    "| **Median** | Middle value when data is ordered | Odd: $x_{\\left(\\frac{n+1}{2}\\right)}$ Even: $\\frac{x_{\\left(\\frac{n}{2}\\right)} + x_{\\left(\\frac{n}{2} + 1\\right)}}{2}$ | Dataset: $3, 1, 4, 2, 5$; Median: $3$ |\n",
    "| **Mode** | Most frequently occurring value | N/A | Dataset: $2, 3, 4, 4, 5$; Mode: $4$ |\n",
    "\n",
    "These measures provide different insights into the central tendency of a dataset. The mean is useful for datasets without extreme values, the median is more robust to outliers, and the mode is helpful for understanding the most common value(s). Each measure has its applications depending on the nature of the data and the analysis goals.\n"
   ]
  },
  {
   "cell_type": "code",
   "execution_count": 65,
   "id": "1d3c4cce",
   "metadata": {},
   "outputs": [],
   "source": [
    "import numpy as np\n",
    "from scipy import stats\n",
    "\n",
    "# Example data sets\n",
    "dataset_population = [2, 4, 6, 8, 10]\n",
    "dataset_sample = [3, 7, 5]\n",
    "dataset_odd = [3, 1, 4, 2, 5]\n",
    "dataset_even = [7, 1, 3, 5]\n",
    "dataset_mode_single = [2, 3, 4, 4, 5]\n",
    "dataset_mode_multiple = [1, 1, 2, 3, 3]\n",
    "dataset_no_mode = [1, 2, 3, 4]"
   ]
  },
  {
   "cell_type": "code",
   "execution_count": 66,
   "id": "41602f33",
   "metadata": {},
   "outputs": [
    {
     "name": "stdout",
     "output_type": "stream",
     "text": [
      "Population Mean: 6.0\n",
      "Sample Mean: 5.0\n"
     ]
    }
   ],
   "source": [
    "# Mean calculation\n",
    "mean_population = np.mean(dataset_population)\n",
    "mean_sample = np.mean(dataset_sample)\n",
    "print(f\"Population Mean: {mean_population}\")\n",
    "print(f\"Sample Mean: {mean_sample}\")"
   ]
  },
  {
   "cell_type": "code",
   "execution_count": 67,
   "id": "b60c05b4",
   "metadata": {},
   "outputs": [
    {
     "name": "stdout",
     "output_type": "stream",
     "text": [
      "Median (Odd dataset): 3.0\n",
      "Median (Even dataset): 4.0\n"
     ]
    }
   ],
   "source": [
    "# Median calculation\n",
    "median_odd = np.median(dataset_odd)\n",
    "median_even = np.median(dataset_even)\n",
    "print(f\"Median (Odd dataset): {median_odd}\")\n",
    "print(f\"Median (Even dataset): {median_even}\")"
   ]
  },
  {
   "cell_type": "code",
   "execution_count": 68,
   "id": "8d0aa43a",
   "metadata": {},
   "outputs": [
    {
     "ename": "AttributeError",
     "evalue": "module 'numpy' has no attribute 'mode'",
     "output_type": "error",
     "traceback": [
      "\u001b[1;31m---------------------------------------------------------------------------\u001b[0m",
      "\u001b[1;31mAttributeError\u001b[0m                            Traceback (most recent call last)",
      "Cell \u001b[1;32mIn[68], line 1\u001b[0m\n\u001b[1;32m----> 1\u001b[0m np\u001b[38;5;241m.\u001b[39mmode(dataset_even)\n",
      "File \u001b[1;32m~\\anaconda3\\Lib\\site-packages\\numpy\\__init__.py:320\u001b[0m, in \u001b[0;36m__getattr__\u001b[1;34m(attr)\u001b[0m\n\u001b[0;32m    317\u001b[0m     \u001b[38;5;28;01mfrom\u001b[39;00m \u001b[38;5;21;01m.\u001b[39;00m\u001b[38;5;21;01mtesting\u001b[39;00m \u001b[38;5;28;01mimport\u001b[39;00m Tester\n\u001b[0;32m    318\u001b[0m     \u001b[38;5;28;01mreturn\u001b[39;00m Tester\n\u001b[1;32m--> 320\u001b[0m \u001b[38;5;28;01mraise\u001b[39;00m \u001b[38;5;167;01mAttributeError\u001b[39;00m(\u001b[38;5;124m\"\u001b[39m\u001b[38;5;124mmodule \u001b[39m\u001b[38;5;132;01m{!r}\u001b[39;00m\u001b[38;5;124m has no attribute \u001b[39m\u001b[38;5;124m\"\u001b[39m\n\u001b[0;32m    321\u001b[0m                      \u001b[38;5;124m\"\u001b[39m\u001b[38;5;132;01m{!r}\u001b[39;00m\u001b[38;5;124m\"\u001b[39m\u001b[38;5;241m.\u001b[39mformat(\u001b[38;5;18m__name__\u001b[39m, attr))\n",
      "\u001b[1;31mAttributeError\u001b[0m: module 'numpy' has no attribute 'mode'"
     ]
    }
   ],
   "source": [
    "np.mode(dataset_even)"
   ]
  },
  {
   "cell_type": "code",
   "execution_count": 69,
   "id": "45efb0f2",
   "metadata": {},
   "outputs": [
    {
     "name": "stdout",
     "output_type": "stream",
     "text": [
      "Mode (Single mode dataset): 4 with count 2\n",
      "Mode (Multiple modes dataset): 1 with counts 2\n"
     ]
    }
   ],
   "source": [
    "# Mode calculation\n",
    "mode_single = stats.mode(dataset_mode_single)\n",
    "mode_multiple = stats.mode(dataset_mode_multiple)\n",
    "mode_no_mode = stats.mode(dataset_no_mode)\n",
    "\n",
    "print(f\"Mode (Single mode dataset): {mode_single.mode} with count {mode_single.count}\")\n",
    "print(f\"Mode (Multiple modes dataset): {mode_multiple.mode} with counts {mode_multiple.count}\")"
   ]
  },
  {
   "cell_type": "code",
   "execution_count": 73,
   "id": "588472b4",
   "metadata": {},
   "outputs": [
    {
     "data": {
      "text/plain": [
       "ModeResult(mode=1, count=2)"
      ]
     },
     "execution_count": 73,
     "metadata": {},
     "output_type": "execute_result"
    }
   ],
   "source": [
    "stats.mode(dataset_mode_multiple)"
   ]
  },
  {
   "cell_type": "code",
   "execution_count": 70,
   "id": "d8d4247d",
   "metadata": {},
   "outputs": [
    {
     "name": "stdout",
     "output_type": "stream",
     "text": [
      "Mode (No mode dataset): 1 with count 1\n"
     ]
    }
   ],
   "source": [
    "print(f\"Mode (No mode dataset): {mode_no_mode.mode} with count {mode_no_mode.count}\")"
   ]
  },
  {
   "cell_type": "code",
   "execution_count": null,
   "id": "30eb9d32",
   "metadata": {},
   "outputs": [],
   "source": []
  },
  {
   "cell_type": "markdown",
   "id": "864b1656",
   "metadata": {},
   "source": [
    "# Measures of spread (or dispersion)"
   ]
  },
  {
   "cell_type": "markdown",
   "id": "224ec4ba",
   "metadata": {},
   "source": [
    "These measures include:\n",
    "\n",
    "1. **Range**\n",
    "2. **Variance**\n",
    "3. **Standard Deviation**\n",
    "4. **Interquartile Range (IQR)**"
   ]
  },
  {
   "cell_type": "markdown",
   "id": "45483972",
   "metadata": {},
   "source": [
    "### 1. Range\n",
    "\n",
    "#### Definition\n",
    "The range is the difference between the maximum and minimum values in a dataset. It provides a simple measure of the spread but is highly sensitive to outliers.\n",
    "\n",
    "#### Formulation\n",
    "$$\n",
    "\\text{Range} = \\max(x) - \\min(x)\n",
    "$$\n",
    "\n",
    "#### Calculation Example\n",
    "- Dataset: $3, 5, 7, 2, 9$\n",
    "  $$\n",
    "  \\text{Range} = 9 - 2 = 7\n",
    "  $$"
   ]
  },
  {
   "cell_type": "markdown",
   "id": "aa935edf",
   "metadata": {},
   "source": [
    "### 2. Variance\n",
    "\n",
    "#### Definition\n",
    "Variance measures the average squared deviation of each data point from the mean. It quantifies the spread of the data points.\n",
    "\n",
    "#### Formulation\n",
    "- **Population Variance ($\\sigma^2$)**:\n",
    "  $$\n",
    "  \\sigma^2 = \\frac{1}{N} \\sum_{i=1}^{N} (x_i - \\mu)^2\n",
    "  $$\n",
    "  Where $N$ is the total number of observations, $x_i$ are the individual data points, and $\\mu$ is the population mean.\n",
    "\n",
    "- **Sample Variance ($s^2$)**:\n",
    "  $$\n",
    "  s^2 = \\frac{1}{n-1} \\sum_{i=1}^{n} (x_i - \\bar{x})^2\n",
    "  $$\n",
    "  Where $n$ is the total number of observations in the sample, $x_i$ are the individual data points, and $\\bar{x}$ is the sample mean.\n",
    "\n",
    "#### Calculation Example\n",
    "- Dataset: $4, 8, 6, 5, 3$\n",
    "  $$\n",
    "  \\bar{x} = \\frac{4 + 8 + 6 + 5 + 3}{5} = \\frac{26}{5} = 5.2\n",
    "  $$\n",
    "  $$\n",
    "  s^2 = \\frac{(4-5.2)^2 + (8-5.2)^2 + (6-5.2)^2 + (5-5.2)^2 + (3-5.2)^2}{5-1}\n",
    "  $$\n",
    "  $$\n",
    "  s^2 = \\frac{1.44 + 7.84 + 0.64 + 0.04 + 4.84}{4} = \\frac{14.8}{4} = 3.7\n",
    "  $$"
   ]
  },
  {
   "cell_type": "markdown",
   "id": "065c2a2a",
   "metadata": {},
   "source": [
    "### 3. Standard Deviation\n",
    "\n",
    "#### Definition\n",
    "The standard deviation is the square root of the variance. It provides a measure of spread in the same units as the data.\n",
    "\n",
    "#### Formulation\n",
    "$$\n",
    "\\sigma = \\sqrt{\\sigma^2}\n",
    "$$\n",
    "\n",
    "#### Calculation Example\n",
    "- Dataset: $4, 8, 6, 5, 3$\n",
    "  $$\n",
    "  s = \\sqrt{3.7} \\approx 1.92\n",
    "  $$"
   ]
  },
  {
   "cell_type": "markdown",
   "id": "58de681e",
   "metadata": {},
   "source": [
    "### 4. Interquartile Range (IQR)\n",
    "\n",
    "#### Definition\n",
    "The IQR is the range of the middle 50% of the data. It is the difference between the first quartile (Q1) and the third quartile (Q3).\n",
    "\n",
    "#### Formulation\n",
    "$$\n",
    "\\text{IQR} = Q3 - Q1\n",
    "$$\n",
    "\n",
    "#### Calculation Example\n",
    "- Dataset: $1, 3, 5, 7, 9, 11, 13$\n",
    "  $$\n",
    "  Q1 = 3 \\quad (\\text{25th percentile})\n",
    "  $$\n",
    "  $$\n",
    "  Q3 = 11 \\quad (\\text{75th percentile})\n",
    "  $$\n",
    "  $$\n",
    "  \\text{IQR} = 11 - 3 = 8\n",
    "  $$"
   ]
  },
  {
   "cell_type": "code",
   "execution_count": 1,
   "id": "f3df1a2c",
   "metadata": {},
   "outputs": [],
   "source": [
    "import numpy as np\n",
    "\n",
    "# Example datasets\n",
    "dataset_range = [3, 5, 7, 2, 9]\n",
    "dataset_variance = [4, 8, 6, 5, 3]\n",
    "dataset_iqr = [1, 3, 5, 7, 9, 11, 13]"
   ]
  },
  {
   "cell_type": "code",
   "execution_count": 2,
   "id": "cffb889b",
   "metadata": {},
   "outputs": [
    {
     "name": "stdout",
     "output_type": "stream",
     "text": [
      "Range: 7\n"
     ]
    }
   ],
   "source": [
    "# Range calculation\n",
    "range_value = np.max(dataset_range) - np.min(dataset_range)\n",
    "print(f\"Range: {range_value}\")"
   ]
  },
  {
   "cell_type": "code",
   "execution_count": 4,
   "id": "26e79aff",
   "metadata": {},
   "outputs": [
    {
     "name": "stdout",
     "output_type": "stream",
     "text": [
      "Sample Variance: 3.7\n"
     ]
    }
   ],
   "source": [
    "# Variance calculation (Sample)\n",
    "variance_sample = np.var(dataset_variance, ddof=1)\n",
    "print(f\"Sample Variance: {variance_sample}\")"
   ]
  },
  {
   "cell_type": "code",
   "execution_count": 5,
   "id": "c9bb437d",
   "metadata": {},
   "outputs": [
    {
     "name": "stdout",
     "output_type": "stream",
     "text": [
      "Sample Standard Deviation: 1.9235384061671346\n"
     ]
    }
   ],
   "source": [
    "# Standard deviation calculation (Sample)\n",
    "std_deviation_sample = np.std(dataset_variance, ddof=1)\n",
    "print(f\"Sample Standard Deviation: {std_deviation_sample}\")"
   ]
  },
  {
   "cell_type": "code",
   "execution_count": 6,
   "id": "90a573cb",
   "metadata": {},
   "outputs": [
    {
     "name": "stdout",
     "output_type": "stream",
     "text": [
      "IQR: 6.0\n"
     ]
    }
   ],
   "source": [
    "# IQR calculation\n",
    "Q1 = np.percentile(dataset_iqr, 25)\n",
    "Q3 = np.percentile(dataset_iqr, 75)\n",
    "IQR = Q3 - Q1\n",
    "print(f\"IQR: {IQR}\")"
   ]
  },
  {
   "cell_type": "code",
   "execution_count": null,
   "id": "48b23a4c",
   "metadata": {},
   "outputs": [],
   "source": []
  },
  {
   "cell_type": "markdown",
   "id": "d8500466",
   "metadata": {},
   "source": [
    "# Measures of shape"
   ]
  },
  {
   "cell_type": "markdown",
   "id": "54cc30d2",
   "metadata": {},
   "source": [
    "They describe the distribution's symmetry and the peakedness or flatness of the data. These measures include:\n",
    "\n",
    "1. **Skewness**\n",
    "2. **Kurtosis**"
   ]
  },
  {
   "cell_type": "markdown",
   "id": "2178977b",
   "metadata": {},
   "source": [
    "### 1. Skewness\n",
    "\n",
    "#### Definition\n",
    "Skewness is a measure of the asymmetry of the probability distribution of a real-valued random variable. It indicates whether the data points are skewed to the left (negative skew) or to the right (positive skew).\n",
    "\n",
    "  - A skewness of 0 indicates a symmetrical distribution.\n",
    "  - Positive or negative skewness values indicate right or left skewed distributions, respectively.\n",
    "  \n",
    "- **Positive Skewness**: The right tail is longer or fatter. The mass of the distribution is concentrated on the left.\n",
    "- **Negative Skewness**: The left tail is longer or fatter. The mass of the distribution is concentrated on the right.\n",
    "\n",
    "#### Formulation\n",
    "The skewness ($S$) can be calculated using the following formula:\n",
    "$$\n",
    "S = \\frac{n}{(n-1)(n-2)} \\sum_{i=1}^{n} \\left(\\frac{x_i - \\bar{x}}{s}\\right)^3\n",
    "$$\n",
    "Where:\n",
    "- $n$ is the number of observations.\n",
    "- $x_i$ are the individual data points.\n",
    "- $\\bar{x}$ is the sample mean.\n",
    "- $s$ is the sample standard deviation.\n",
    "\n"
   ]
  },
  {
   "cell_type": "code",
   "execution_count": 74,
   "id": "73491007",
   "metadata": {},
   "outputs": [
    {
     "name": "stdout",
     "output_type": "stream",
     "text": [
      "Skewness: 0.0\n"
     ]
    }
   ],
   "source": [
    "from scipy.stats import skew, kurtosis\n",
    "\n",
    "# Example dataset\n",
    "dataset_shape = [3, 5, 7, 9, 11, 13, 15]\n",
    "\n",
    "# Skewness calculation\n",
    "skewness = skew(dataset_shape)\n",
    "print(f\"Skewness: {skewness}\")"
   ]
  },
  {
   "cell_type": "code",
   "execution_count": 77,
   "id": "39511a01",
   "metadata": {},
   "outputs": [
    {
     "data": {
      "text/plain": [
       "array([0.10714532, 0.66499482, 0.41205934, 0.25961478, 0.60195142,\n",
       "       0.30219017, 0.53085633, 0.57597739, 0.52906692, 0.01068652])"
      ]
     },
     "execution_count": 77,
     "metadata": {},
     "output_type": "execute_result"
    }
   ],
   "source": [
    "np.random.rand(10)"
   ]
  },
  {
   "cell_type": "code",
   "execution_count": 81,
   "id": "9d2576a1",
   "metadata": {},
   "outputs": [
    {
     "data": {
      "image/png": "[encoded data removed]",
      "text/plain": [
       "<Figure size 600x800 with 3 Axes>"
      ]
     },
     "metadata": {},
     "output_type": "display_data"
    },
    {
     "name": "stdout",
     "output_type": "stream",
     "text": [
      "Normal Distribution Skewness: 0.03385895323565712\n",
      "Mean: -0.045 Std Dev: 0.987 Median: -0.058\n",
      "\n",
      "Right-Skewed Distribution Skewness: 0.7206005942689362\n",
      "Mean: 0.721 Std Dev: 0.0 Median: 0.721\n",
      "\n",
      "Left-Skewed Distribution Skewness: -0.9540577696302879\n",
      "Mean: -0.954 Std Dev: 0.0 Median: -0.954\n"
     ]
    }
   ],
   "source": [
    "import numpy as np\n",
    "import matplotlib.pyplot as plt\n",
    "from scipy.stats import norm, skewnorm\n",
    "import scipy\n",
    "\n",
    "# Generate data for a normal distribution\n",
    "np.random.seed(0)\n",
    "normal_data = norm.rvs(size=1000)\n",
    "\n",
    "# Generate data for a right-skewed distribution\n",
    "right_skewed_data = skewnorm.rvs(a=5, size=1000)\n",
    "\n",
    "# Generate data for a left-skewed distribution\n",
    "left_skewed_data = skewnorm.rvs(a=-5, size=1000)\n",
    "\n",
    "# Plot the distributions\n",
    "fig, ax = plt.subplots(3, 1, figsize=(6, 8))\n",
    "\n",
    "# Normal distribution\n",
    "ax[0].hist(normal_data, bins=30, density=True, alpha=0.6, color='g', label=f\"Skewness: {normal_skewness.round(3)}\")\n",
    "xmin, xmax = ax[0].get_xlim()\n",
    "x = np.linspace(xmin, xmax, 100)\n",
    "p = norm.pdf(x, 0, 1)\n",
    "ax[0].plot(x, p, 'k', linewidth=2)\n",
    "ax[0].set_title('Normal Distribution')\n",
    "ax[0].legend()\n",
    "\n",
    "\n",
    "# Right-skewed distribution\n",
    "ax[1].hist(right_skewed_data, bins=30, density=True, alpha=0.6, color='b')\n",
    "xmin, xmax = ax[1].get_xlim()\n",
    "x = np.linspace(xmin, xmax, 100)\n",
    "p = skewnorm.pdf(x, 5, loc=0, scale=1)\n",
    "ax[1].plot(x, p, 'k', linewidth=2)\n",
    "ax[1].set_title('Right-Skewed Distribution')\n",
    "\n",
    "# Left-skewed distribution\n",
    "ax[2].hist(left_skewed_data, bins=30, density=True, alpha=0.6, color='r')\n",
    "xmin, xmax = ax[2].get_xlim()\n",
    "x = np.linspace(xmin, xmax, 100)\n",
    "p = skewnorm.pdf(x, -5, loc=0, scale=1)\n",
    "ax[2].plot(x, p, 'k', linewidth=2)\n",
    "ax[2].set_title('Left-Skewed Distribution')\n",
    "\n",
    "plt.tight_layout()\n",
    "plt.show()\n",
    "\n",
    "# Calculate skewness for each distribution\n",
    "from scipy.stats import skew\n",
    "\n",
    "normal_skewness = skew(normal_data)\n",
    "right_skewed_skewness = skew(right_skewed_data)\n",
    "left_skewed_skewness = skew(left_skewed_data)\n",
    "\n",
    "print(f\"Normal Distribution Skewness: {normal_skewness}\")\n",
    "print(\"Mean:\", normal_data.mean().round(3), \"Std Dev:\", np.std(normal_data).round(3), \"Median:\", np.median(normal_data).round(3))\n",
    "\n",
    "print(f\"\\nRight-Skewed Distribution Skewness: {right_skewed_skewness}\")\n",
    "print(\"Mean:\", right_skewed_skewness.mean().round(3), \"Std Dev:\", np.std(right_skewed_skewness).round(3), \"Median:\", np.median(right_skewed_skewness).round(3))\n",
    "\n",
    "print(f\"\\nLeft-Skewed Distribution Skewness: {left_skewed_skewness}\")\n",
    "print(\"Mean:\", left_skewed_skewness.mean().round(3), \"Std Dev:\", np.std(left_skewed_skewness).round(3), \"Median:\", np.median(left_skewed_skewness).round(3))"
   ]
  },
  {
   "cell_type": "code",
   "execution_count": null,
   "id": "6f2c38f7",
   "metadata": {},
   "outputs": [],
   "source": []
  },
  {
   "cell_type": "markdown",
   "id": "8bff9fd8",
   "metadata": {},
   "source": [
    "## Examples from real world\n",
    "\n",
    "### Normal Distribution\n",
    "**Example**: Heights of Adult Males\n",
    "- In a large population, the heights of adult males tend to follow a normal distribution. Most people have heights around the mean, with fewer individuals being extremely short or tall.\n",
    "\n",
    "**Example**: Test Scores\n",
    "- Standardized test scores (e.g., SAT, IQ tests) often follow a normal distribution, where most students score near the average, with fewer students achieving extremely high or low scores.\n",
    "\n",
    "### Right-Skewed Distribution\n",
    "**Example**: Income Distribution\n",
    "- Income distribution within a population is often right-skewed, where a large number of people earn lower incomes, and a smaller number of people earn significantly higher incomes.\n",
    "\n",
    "**Example**: Age at Retirement\n",
    "- The age at which people retire tends to be right-skewed. Most people retire around a typical retirement age, but some retire much later, creating a longer tail to the right.\n",
    "\n",
    "### Left-Skewed Distribution\n",
    "**Example**: Age at Death in Certain Populations\n",
    "- In some populations, especially those with good healthcare, the age at death might be left-skewed. Most individuals live to an old age, but a smaller number die young due to accidents or illness.\n",
    "\n",
    "**Example**: Time to Complete a Task\n",
    "- If a task is generally easy but occasionally encounters delays (e.g., routine tasks with rare interruptions), the completion time may be left-skewed. Most times will be short, with a few longer times."
   ]
  },
  {
   "cell_type": "markdown",
   "id": "27739f0e",
   "metadata": {},
   "source": []
  },
  {
   "cell_type": "code",
   "execution_count": null,
   "id": "ccffe965",
   "metadata": {},
   "outputs": [],
   "source": []
  },
  {
   "cell_type": "markdown",
   "id": "ed720397",
   "metadata": {},
   "source": [
    "### 2. Kurtosis\n",
    "\n",
    "#### Definition\n",
    "Kurtosis is a measure of the \"tailedness\" of the probability distribution of a real-valued random variable. It indicates whether the data points are more or less outlier-prone (heavier or lighter tails) than a normal distribution.\n",
    "\n",
    "- **Leptokurtic**: Kurtosis > 3. Distribution with heavier tails and a sharper peak.\n",
    "- **Mesokurtic**: Kurtosis = 3. Distribution similar to a normal distribution.\n",
    "- **Platykurtic**: Kurtosis < 3. Distribution with lighter tails and a flatter peak.\n",
    "\n",
    "#### Formulation\n",
    "The kurtosis ($K$) can be calculated using the following formula:\n",
    "$$\n",
    "K = \\frac{n(n+1)}{(n-1)(n-2)(n-3)} \\sum_{i=1}^{n} \\left(\\frac{x_i - \\bar{x}}{s}\\right)^4 - \\frac{3(n-1)^2}{(n-2)(n-3)}\n",
    "$$\n",
    "Where:\n",
    "- $n$ is the number of observations.\n",
    "- $x_i$ are the individual data points.\n",
    "- $\\bar{x}$) is the sample mean.\n",
    "- $s$ is the sample standard deviation.\n"
   ]
  },
  {
   "cell_type": "code",
   "execution_count": 82,
   "id": "d73940c0",
   "metadata": {},
   "outputs": [
    {
     "name": "stdout",
     "output_type": "stream",
     "text": [
      "Kurtosis: -1.25\n"
     ]
    }
   ],
   "source": [
    "from scipy.stats import skew, kurtosis\n",
    "\n",
    "# Example dataset\n",
    "dataset_shape = [3, 5, 7, 9, 11, 13, 15]\n",
    "\n",
    "# Kurtosis calculation\n",
    "kurt = kurtosis(dataset_shape)\n",
    "print(f\"Kurtosis: {kurt}\")"
   ]
  },
  {
   "cell_type": "code",
   "execution_count": null,
   "id": "986e4d84",
   "metadata": {},
   "outputs": [],
   "source": []
  },
  {
   "cell_type": "code",
   "execution_count": 83,
   "id": "cb8b5b87",
   "metadata": {},
   "outputs": [
    {
     "data": {
      "image/png": "[encoded data removed]",
      "text/plain": [
       "<Figure size 600x800 with 3 Axes>"
      ]
     },
     "metadata": {},
     "output_type": "display_data"
    },
    {
     "name": "stdout",
     "output_type": "stream",
     "text": [
      "Mesokurtic Distribution Kurtosis: -0.0467663244783294\n",
      "Leptokurtic Distribution Kurtosis: 3.21956889161374\n",
      "Platykurtic Distribution Kurtosis: -1.2120546071265548\n"
     ]
    }
   ],
   "source": [
    "import numpy as np\n",
    "import matplotlib.pyplot as plt\n",
    "from scipy.stats import norm, laplace, t\n",
    "\n",
    "# Generate data for mesokurtic distribution (Normal distribution)\n",
    "np.random.seed(0)\n",
    "mesokurtic_data = norm.rvs(size=1000)\n",
    "\n",
    "# Generate data for leptokurtic distribution (Laplace distribution)\n",
    "leptokurtic_data = laplace.rvs(size=1000)\n",
    "\n",
    "# Generate data for platykurtic distribution (Uniform distribution)\n",
    "platykurtic_data = np.random.uniform(low=-1, high=1, size=1000)\n",
    "\n",
    "# Plot the distributions\n",
    "fig, ax = plt.subplots(3, 1, figsize=(6,8))\n",
    "\n",
    "# Mesokurtic distribution\n",
    "ax[0].hist(mesokurtic_data, bins=30, density=True, alpha=0.6, color='g')\n",
    "xmin, xmax = ax[0].get_xlim()\n",
    "x = np.linspace(xmin, xmax, 100)\n",
    "p = norm.pdf(x, 0, 1)\n",
    "ax[0].plot(x, p, 'k', linewidth=2)\n",
    "ax[0].set_title('Mesokurtic Distribution (Normal)')\n",
    "\n",
    "# Leptokurtic distribution\n",
    "ax[1].hist(leptokurtic_data, bins=30, density=True, alpha=0.6, color='b')\n",
    "xmin, xmax = ax[1].get_xlim()\n",
    "x = np.linspace(xmin, xmax, 100)\n",
    "p = laplace.pdf(x, 0, 1)\n",
    "ax[1].plot(x, p, 'k', linewidth=2)\n",
    "ax[1].set_title('Leptokurtic Distribution (Laplace)')\n",
    "\n",
    "# Platykurtic distribution\n",
    "ax[2].hist(platykurtic_data, bins=30, density=True, alpha=0.6, color='r')\n",
    "xmin, xmax = ax[2].get_xlim()\n",
    "x = np.linspace(xmin, xmax, 100)\n",
    "p = [1/2]*100\n",
    "ax[2].plot(x, p, 'k', linewidth=2)\n",
    "ax[2].set_title('Platykurtic Distribution (Uniform)')\n",
    "\n",
    "plt.tight_layout()\n",
    "plt.show()\n",
    "\n",
    "# Calculate kurtosis for each distribution\n",
    "from scipy.stats import kurtosis\n",
    "\n",
    "mesokurtic_kurtosis = kurtosis(mesokurtic_data)\n",
    "leptokurtic_kurtosis = kurtosis(leptokurtic_data)\n",
    "platykurtic_kurtosis = kurtosis(platykurtic_data)\n",
    "\n",
    "print(f\"Mesokurtic Distribution Kurtosis: {mesokurtic_kurtosis}\")\n",
    "print(f\"Leptokurtic Distribution Kurtosis: {leptokurtic_kurtosis}\")\n",
    "print(f\"Platykurtic Distribution Kurtosis: {platykurtic_kurtosis}\")\n"
   ]
  },
  {
   "cell_type": "markdown",
   "id": "2df53fb7",
   "metadata": {},
   "source": [
    "## Examples from real world\n",
    "### Leptokurtic Distribution\n",
    "**Example**: Stock Market Returns During Crises\n",
    "- During financial crises, stock market returns can become leptokurtic, showing sharper peaks and heavier tails than normal distributions, indicating frequent extreme gains or losses.\n",
    "\n",
    "**Example**: Daily Rainfall Amounts in Certain Climates\n",
    "- In some climates, daily rainfall amounts can be leptokurtic, with many days of little to no rain and a few days with very heavy rain.\n",
    "\n",
    "### Mesokurtic Distribution\n",
    "**Example**: Standardized Test Scores\n",
    "- As mentioned earlier, standardized test scores like IQ tests are designed to be mesokurtic, resembling the normal distribution with moderate tails and peak.\n",
    "\n",
    "**Example**: Measurement Errors in Physical Experiments\n",
    "- Measurement errors in well-controlled physical experiments often follow a mesokurtic distribution, assuming they are normally distributed.\n",
    "\n",
    "### Platykurtic Distribution\n",
    "**Example**: Uniformly Distributed Data\n",
    "- Data that is uniformly distributed (e.g., rolling a fair die) is platykurtic, as it has lighter tails and a flatter peak than a normal distribution.\n",
    "\n",
    "**Example**: Heights of a Uniformly Selected Population\n",
    "- If a population is artificially selected to be uniformly distributed in height (e.g., selecting individuals within a certain height range evenly), the height distribution would be platykurtic.\n",
    "\n"
   ]
  },
  {
   "cell_type": "code",
   "execution_count": null,
   "id": "37daa9c4",
   "metadata": {},
   "outputs": [],
   "source": []
  },
  {
   "cell_type": "code",
   "execution_count": null,
   "id": "dcb17cec",
   "metadata": {},
   "outputs": [],
   "source": []
  },
  {
   "cell_type": "code",
   "execution_count": null,
   "id": "7da8df62",
   "metadata": {},
   "outputs": [],
   "source": [
    "pwd"
   ]
  },
  {
   "cell_type": "code",
   "execution_count": null,
   "id": "759e1f6c",
   "metadata": {},
   "outputs": [],
   "source": []
  }
 ],
 "metadata": {
  "kernelspec": {
   "display_name": "Python 3 (ipykernel)",
   "language": "python",
   "name": "python3"
  },
  "language_info": {
   "codemirror_mode": {
    "name": "ipython",
    "version": 3
   },
   "file_extension": ".py",
   "mimetype": "text/x-python",
   "name": "python",
   "nbconvert_exporter": "python",
   "pygments_lexer": "ipython3",
   "version": "3.11.5"
  }
 },
 "nbformat": 4,
 "nbformat_minor": 5
}
