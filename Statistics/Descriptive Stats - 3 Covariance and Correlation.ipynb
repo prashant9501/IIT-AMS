{
 "cells": [
  {
   "cell_type": "markdown",
   "id": "53503226",
   "metadata": {},
   "source": [
    "# Covariance and Correlation"
   ]
  },
  {
   "cell_type": "markdown",
   "id": "b8dde102",
   "metadata": {},
   "source": [
    "Covariance and correlation are statistical measures that describe the relationship between two variables. They are essential in understanding how variables move together or independently of each other."
   ]
  },
  {
   "cell_type": "markdown",
   "id": "469f7a5c",
   "metadata": {},
   "source": [
    "### Covariance\n",
    "\n",
    "Covariance measures the degree to which two variables change together. It is defined as the average of the product of the deviations of each pair of data points from their respective means.\n",
    "\n",
    "**Formula:**\n",
    "\n",
    "For two variables $X$ and $Y$ with $n$ data points:\n",
    "\n",
    "$$ \\text{Cov}(X, Y) = \\frac{1}{n} \\sum_{i=1}^{n} (X_i - \\bar{X})(Y_i - \\bar{Y}) $$\n",
    "\n",
    "where:\n",
    "- $X_i$ and $Y_i$ are the individual data points of $X$ and $Y$.\n",
    "- $\\bar{X}$ is the mean of $X$: $\\bar{X} = \\frac{1}{n} \\sum_{i=1}^{n} X_i$.\n",
    "- $\\bar{Y}$ is the mean of $Y$: $\\bar{Y} = \\frac{1}{n} \\sum_{i=1}^{n} Y_i$.\n",
    "\n",
    "**Interpretation:**\n",
    "- If $\\text{Cov}(X, Y) > 0$, $X$ and $Y$ tend to increase together.\n",
    "- If $\\text{Cov}(X, Y) < 0$, $X$ and $Y$ tend to move inversely.\n",
    "- If $\\text{Cov}(X, Y) = 0$, $X$ and $Y$ are uncorrelated (no linear relationship)."
   ]
  },
  {
   "cell_type": "markdown",
   "id": "2c480fc9",
   "metadata": {},
   "source": [
    "### Correlation\n",
    "\n",
    "Correlation is a normalized form of covariance that provides a dimensionless measure of the strength and direction of the linear relationship between two variables. It ranges from $-1$ to $1$.\n",
    "\n",
    "**Formula:**\n",
    "\n",
    "The most common measure of correlation is the Pearson correlation coefficient ($r$):\n",
    "\n",
    "$$ r = \\frac{\\text{Cov}(X, Y)}{\\sigma_X \\sigma_Y} $$\n",
    "\n",
    "where:\n",
    "- $\\sigma_X$ is the standard deviation of $X$: $\\sigma_X = \\sqrt{\\frac{1}{n} \\sum_{i=1}^{n} (X_i - \\bar{X})^2}$.\n",
    "- $\\sigma_Y$ is the standard deviation of $Y$: $\\sigma_Y = \\sqrt{\\frac{1}{n} \\sum_{i=1}^{n} (Y_i - \\bar{Y})^2}$.\n",
    "\n",
    "**Interpretation:**\n",
    "- $r = 1$: Perfect positive correlation (X and Y increase together).\n",
    "- $r = -1$: Perfect negative correlation (X and Y decrease together).\n",
    "- $r = 0$: No linear correlation between X and Y."
   ]
  },
  {
   "cell_type": "markdown",
   "id": "db724a1e",
   "metadata": {},
   "source": [
    "### Relevant Excel Functions:\n",
    "\n",
    "- **AVERAGE(range):** Calculates the mean of the specified range.\n",
    "\n",
    "- **COVARIANCE.P(array1, array2):** Calculates the population covariance between two data sets.\n",
    "- **COVARIANCE.S(array1, array2):** Calculates the sample covariance between two data sets.\n",
    "\n",
    "- **STDEV.P(range):** Calculates the standard deviation of the specified range assuming the data set is a population.\n",
    "- **STDEV.P(range):** Calculates the standard deviation of the specified range assuming the data set is a SAMPLE\n",
    ".\n",
    "- **CORREL(array1, array2):** Calculates the correlation coefficient between two data sets.\n",
    "\n"
   ]
  },
  {
   "cell_type": "code",
   "execution_count": null,
   "id": "53d5ca9c",
   "metadata": {},
   "outputs": [],
   "source": []
  },
  {
   "cell_type": "markdown",
   "id": "389afa57",
   "metadata": {},
   "source": [
    "### 1. Pearson Correlation Coefficient\n",
    "\n",
    "This is the most common type of correlation coefficient, which measures the strength and direction of the linear relationship between two variables.\n",
    "\n",
    "**Function:** `CORREL(array1, array2)`\n",
    "\n",
    "### 2. Spearman Rank Correlation Coefficient\n",
    "\n",
    "The Spearman rank correlation coefficient measures the strength and direction of the monotonic relationship between two ranked variables. It works well with ordinal data as it is non-parametric and does not assume a linear relationship\n",
    "\n",
    "**How to Calculate in Excel:**\n",
    "- Rank the data points in each data set.\n",
    "- Calculate the Pearson correlation coefficient of the ranks.\n",
    "\n",
    "### Steps to Calculate Spearman Rank Correlation in Excel:\n",
    "1. **Rank the Data:**\n",
    "   - Use the `RANK.AVG` function to rank the data. For example, for data in column A:\n",
    "     ```\n",
    "     =RANK.AVG(A2, $A$2:$A$5, 1)\n",
    "     ```\n",
    "     Drag the formula down to apply to other data points.\n",
    "   \n",
    "2. **Calculate the Pearson Correlation of the Ranks:**\n",
    "   - Use the `CORREL` function on the ranked data.\n"
   ]
  },
  {
   "cell_type": "code",
   "execution_count": null,
   "id": "c67abe28",
   "metadata": {},
   "outputs": [],
   "source": []
  },
  {
   "cell_type": "markdown",
   "id": "50908bf3",
   "metadata": {},
   "source": [
    "### Main Differences Between Spearman and Pearson Correlation\n",
    "\n",
    "**Pearson Correlation:**\n",
    "- **Type:** Measures linear relationship between two variables.\n",
    "- **Data Requirements:** Assumes that the data is continuous and normally distributed.\n",
    "- **Scale:** Sensitive to outliers.\n",
    "- **Formula:**\n",
    "  $$ r = \\frac{\\text{Cov}(X, Y)}{\\sigma_X \\sigma_Y} $$\n",
    "  where $ \\text{Cov}(X, Y) $ is the covariance of $X$ and $Y$, and $ \\sigma_X $ and $ \\sigma_Y $ are the standard deviations of $X$ and $Y$.\n",
    "\n",
    "**Spearman Correlation:**\n",
    "- **Type:** Measures the strength and direction of the monotonic relationship between two variables.\n",
    "- **Data Requirements:** Non-parametric; does not assume normal distribution and can be used with ordinal data.\n",
    "- **Scale:** Less sensitive to outliers.\n",
    "- **Formula:**\n",
    "  $$ \\rho = 1 - \\frac{6 \\sum d_i^2}{n(n^2 - 1)} $$\n",
    "  where $ d_i $ is the difference between the ranks of corresponding variables and $ n $ is the number of observations.\n",
    "\n",
    "### Real-World Examples\n",
    "\n",
    "**Pearson Correlation:**\n",
    "1. **Finance:** Measuring the relationship between two stocks' returns to see if they move together.\n",
    "2. **Health Science:** Assessing the relationship between blood pressure and age in a normally distributed population.\n",
    "\n",
    "**Spearman Correlation:**\n",
    "1. **Education:** Examining the relationship between students' ranks in different subjects (e.g., math and science scores).\n",
    "2. **Social Science:** Evaluating the correlation between the rank order of cities by population size and the rank order by average income."
   ]
  },
  {
   "cell_type": "code",
   "execution_count": null,
   "id": "0cc91e2c",
   "metadata": {},
   "outputs": [],
   "source": []
  },
  {
   "cell_type": "code",
   "execution_count": null,
   "id": "cf1858f2",
   "metadata": {},
   "outputs": [],
   "source": []
  },
  {
   "cell_type": "code",
   "execution_count": null,
   "id": "1c77ae0e",
   "metadata": {},
   "outputs": [],
   "source": []
  },
  {
   "cell_type": "code",
   "execution_count": null,
   "id": "078db9ce",
   "metadata": {},
   "outputs": [],
   "source": []
  }
 ],
 "metadata": {
  "kernelspec": {
   "display_name": "Python 3 (ipykernel)",
   "language": "python",
   "name": "python3"
  },
  "language_info": {
   "codemirror_mode": {
    "name": "ipython",
    "version": 3
   },
   "file_extension": ".py",
   "mimetype": "text/x-python",
   "name": "python",
   "nbconvert_exporter": "python",
   "pygments_lexer": "ipython3",
   "version": "3.11.5"
  }
 },
 "nbformat": 4,
 "nbformat_minor": 5
}
